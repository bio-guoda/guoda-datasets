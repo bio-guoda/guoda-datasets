{
 "cells": [
  {
   "cell_type": "code",
   "execution_count": 1,
   "metadata": {
    "collapsed": false
   },
   "outputs": [
    {
     "name": "stderr",
     "output_type": "stream",
     "text": [
      ":0: FutureWarning: IPython widgets are experimental and may change in the future.\n"
     ]
    }
   ],
   "source": [
    "%matplotlib inline\n",
    "from __future__ import print_function\n",
    "# Standard gobbldy-gook for hand Spark stuff\n",
    "import os\n",
    "from pyspark import SQLContext\n",
    "from pyspark.sql import Row\n",
    "import pyspark.sql.functions as sql\n",
    "import pyspark.sql.types as types\n",
    "#from pyspark.sql.functions import udf, length\n",
    "import matplotlib.pyplot as plt\n",
    "import numpy\n",
    "import math\n",
    "import matplotlib.pyplot as plt\n",
    "import seaborn as sns\n",
    "\n",
    "import nltk\n",
    "import pyspark.ml.feature as feature\n",
    "\n",
    "import unicodecsv\n",
    "from dateutil.parser import parse\n",
    "#from dateparser.date import DateDataParser"
   ]
  },
  {
   "cell_type": "code",
   "execution_count": 2,
   "metadata": {
    "collapsed": true
   },
   "outputs": [],
   "source": [
    "sqlContext = SQLContext(sc)"
   ]
  },
  {
   "cell_type": "code",
   "execution_count": 3,
   "metadata": {
    "collapsed": true
   },
   "outputs": [],
   "source": [
    "data_dir = \"data/data-20160516\""
   ]
  },
  {
   "cell_type": "code",
   "execution_count": 4,
   "metadata": {
    "collapsed": false,
    "scrolled": true
   },
   "outputs": [],
   "source": [
    "#parser = DateDataParser()\n",
    "def type_data_subject(l):\n",
    "    try:\n",
    "        return (\n",
    "            int(l[\"TitleID\"]),\n",
    "            l[\"Subject\"],\n",
    "            parse(l[\"CreationDate\"])\n",
    "        )\n",
    "    except:\n",
    "        return False\n",
    "\n",
    "def schema_subject():\n",
    "    return types.StructType([\n",
    "        types.StructField(\"titleid\", types.IntegerType(), True),\n",
    "        types.StructField(\"subject\", types.StringType(), True),\n",
    "        types.StructField(\"creationdate\", types.DateType(), True)\n",
    "        ])\n",
    "\n",
    "# Read a file with python's csv reader into a df - single threaded and\n",
    "# inefficient but csv reading is not garanteed to be line-paralizable\n",
    "# and Python's parsing code is more known/hackable than Spark's\n",
    "def t_gen(fn, parse_method):\n",
    "    i = 1 # start row number at 1 due to header\n",
    "    errors = 0\n",
    "    with open(fn) as f:\n",
    "        # encoding specified as 'utf-8-sig' since dumps have byte order mark\n",
    "        f_tsv = unicodecsv.DictReader(f, encoding='utf-8-sig', dialect=\"excel-tab\")\n",
    "        for l in f_tsv:\n",
    "            i += 1\n",
    "            row = parse_method(l)\n",
    "            if row is not False:\n",
    "                yield row\n",
    "            else:\n",
    "                errors += 1\n",
    "                print(\"Error with {0} on line {1}\".format(l, i))\n",
    "                if errors > 50:\n",
    "                    print(\"Too many errors, stopping.\")\n",
    "                    break\n",
    "\n"
   ]
  },
  {
   "cell_type": "code",
   "execution_count": null,
   "metadata": {
    "collapsed": true
   },
   "outputs": [],
   "source": [
    "fn = os.path.join(data_dir, \"subject.txt\")\n",
    "df = sqlContext.createDataFrame(t_gen(fn, type_data_subject), schema_subject())"
   ]
  },
  {
   "cell_type": "code",
   "execution_count": null,
   "metadata": {
    "collapsed": false
   },
   "outputs": [],
   "source": [
    "print(df.schema)\n",
    "df.head(10)"
   ]
  },
  {
   "cell_type": "code",
   "execution_count": 5,
   "metadata": {
    "collapsed": false
   },
   "outputs": [
    {
     "name": "stdout",
     "output_type": "stream",
     "text": [
      "invalid literal for int() with base 10: '2009-05-03 00:01'\n",
      "Error with {u'ItemID': u' 1049434', u'VolumeInfo': None, u'LocalID': None, u'CallNumber': None, u'BarCode': None, u'InstitutionName': None, u'TitleID': u'2009-05-03 00:01', u'ItemURL': None, u'ZQuery': None, u'ThumbnailPageID': None, u'Year': None, u'CreationDate': None, u'MARCItemID': None} on line 15548\n",
      "invalid literal for int() with base 10: '1820-1848.'\n",
      "Error with {u'ItemID': u' 1263520', u'VolumeInfo': None, u'LocalID': None, u'CallNumber': None, u'BarCode': u'local=1126352', u'InstitutionName': None, u'TitleID': u'1820-1848.', u'ItemURL': None, u'ZQuery': None, u'ThumbnailPageID': u'American Museum of Natural History Library', u'Year': None, u'CreationDate': None, u'MARCItemID': u'2009-05-10 00:03'} on line 20780\n",
      "year is out of range\n",
      "Error with {u'ItemID': u'91798', None: [u'2010-03-16 00:00'], u'VolumeInfo': u'', u'LocalID': u'', u'CallNumber': u'', u'BarCode': u'introductiontobo00stev', u'InstitutionName': u'Internet Archive', u'TitleID': u'41634', u'ItemURL': u'http://www.biodiversitylibrary.org/item/91798 ', u'ZQuery': u'local= ', u'ThumbnailPageID': u'28916380', u'Year': u'', u'CreationDate': u'4671941', u'MARCItemID': u'introductiontobo00stev'} on line 87399\n",
      "year is out of range\n",
      "Error with {u'ItemID': u'100634', None: [u'2010-09-26 00:02'], u'VolumeInfo': u'v.1', u'LocalID': u'', u'CallNumber': u'', u'BarCode': u'beitraegezueiner01jira', u'InstitutionName': u'University Library, University of Illinois Urbana Champaign', u'TitleID': u'46547', u'ItemURL': u'http://www.biodiversitylibrary.org/item/100634 ', u'ZQuery': u'local= ', u'ThumbnailPageID': u'32296197', u'Year': u'', u'CreationDate': u'6171504', u'MARCItemID': u'beitraegezueiner01jira'} on line 137525\n",
      "year is out of range\n",
      "Error with {u'ItemID': u'100722', None: [u'2010-09-26 00:05'], u'VolumeInfo': u'1', u'LocalID': u'', u'CallNumber': u'', u'BarCode': u'carolilinneqvi01linn', u'InstitutionName': u'University Library, University of Illinois Urbana Champaign', u'TitleID': u'46560', u'ItemURL': u'http://www.biodiversitylibrary.org/item/100722 ', u'ZQuery': u'local= ', u'ThumbnailPageID': u'32344859', u'Year': u'', u'CreationDate': u'2692043', u'MARCItemID': u'carolilinneqvi01linn'} on line 137610\n",
      "year is out of range\n",
      "Error with {u'ItemID': u'100733', None: [u'2010-09-26 00:06'], u'VolumeInfo': u'v.2', u'LocalID': u'', u'CallNumber': u'', u'BarCode': u'versucheineranle02bats', u'InstitutionName': u'University Library, University of Illinois Urbana Champaign', u'TitleID': u'46561', u'ItemURL': u'http://www.biodiversitylibrary.org/item/100733 ', u'ZQuery': u'local= ', u'ThumbnailPageID': u'32352053', u'Year': u'1787', u'CreationDate': u'2761124', u'MARCItemID': u'versucheineranle02bats'} on line 137621\n",
      "year is out of range\n",
      "Error with {u'ItemID': u'100912', None: [u'2010-10-03 00:00'], u'VolumeInfo': u'1', u'LocalID': u'', u'CallNumber': u'', u'BarCode': u'ladiesbotanyofpr01lind', u'InstitutionName': u'University Library, University of Illinois Urbana Champaign', u'TitleID': u'46637', u'ItemURL': u'http://www.biodiversitylibrary.org/item/100912 ', u'ZQuery': u'local= ', u'ThumbnailPageID': u'32421691', u'Year': u'', u'CreationDate': u'1967977', u'MARCItemID': u'ladiesbotanyofpr01lind'} on line 139462\n",
      "year is out of range\n",
      "Error with {u'ItemID': u'100913', None: [u'2010-10-03 00:00'], u'VolumeInfo': u'2', u'LocalID': u'', u'CallNumber': u'', u'BarCode': u'ladiesbotanyofpr02lind', u'InstitutionName': u'University Library, University of Illinois Urbana Champaign', u'TitleID': u'46637', u'ItemURL': u'http://www.biodiversitylibrary.org/item/100913 ', u'ZQuery': u'local= ', u'ThumbnailPageID': u'32422011', u'Year': u'', u'CreationDate': u'1967977', u'MARCItemID': u'ladiesbotanyofpr02lind'} on line 139463\n",
      "year is out of range\n",
      "Error with {u'ItemID': u'100939', None: [u'2010-10-03 00:01'], u'VolumeInfo': u'2', u'LocalID': u'', u'CallNumber': u'', u'BarCode': u'illustrationsofn02twin', u'InstitutionName': u'University Library, University of Illinois Urbana Champaign', u'TitleID': u'46651', u'ItemURL': u'http://www.biodiversitylibrary.org/item/100939 ', u'ZQuery': u'local= ', u'ThumbnailPageID': u'32429745', u'Year': u'1868', u'CreationDate': u'1939852', u'MARCItemID': u'illustrationsofn02twin'} on line 139488\n",
      "year is out of range\n",
      "Error with {u'ItemID': u'100940', None: [u'2010-10-03 00:01'], u'VolumeInfo': u'1', u'LocalID': u'', u'CallNumber': u'', u'BarCode': u'illustrationsofn01twin', u'InstitutionName': u'University Library, University of Illinois Urbana Champaign', u'TitleID': u'46651', u'ItemURL': u'http://www.biodiversitylibrary.org/item/100940 ', u'ZQuery': u'local= ', u'ThumbnailPageID': u'32430239', u'Year': u'1868', u'CreationDate': u'1939852', u'MARCItemID': u'illustrationsofn01twin'} on line 139489\n",
      "year is out of range\n",
      "Error with {u'ItemID': u'100969', None: [u'2010-10-03 00:02'], u'VolumeInfo': u'v.23 [t.1]', u'LocalID': u'', u'CallNumber': u'', u'BarCode': u'histoirenaturell01spa', u'InstitutionName': u'University Library, University of Illinois Urbana Champaign', u'TitleID': u'44839', u'ItemURL': u'http://www.biodiversitylibrary.org/item/100969 ', u'ZQuery': u'local= ', u'ThumbnailPageID': u'32442319', u'Year': u'1848', u'CreationDate': u'6170378', u'MARCItemID': u'histoirenaturell01spa'} on line 139516\n",
      "year is out of range\n",
      "Error with {u'ItemID': u'101065', None: [u'2010-10-04 12:18'], u'VolumeInfo': u'1', u'LocalID': u'', u'CallNumber': u'', u'BarCode': u'carolilinnsyst01lin', u'InstitutionName': u'University Library, University of Illinois Urbana Champaign', u'TitleID': u'46735', u'ItemURL': u'http://www.biodiversitylibrary.org/item/101065 ', u'ZQuery': u'local= ', u'ThumbnailPageID': u'32467516', u'Year': u'1797', u'CreationDate': u'2692044', u'MARCItemID': u'carolilinnsyst01lin'} on line 139600\n",
      "year is out of range\n",
      "Error with {u'ItemID': u'101105', None: [u'2010-10-04 12:19'], u'VolumeInfo': u'1', u'LocalID': u'', u'CallNumber': u'', u'BarCode': u'atlasdesplantesd01bois', u'InstitutionName': u'University Library, University of Illinois Urbana Champaign', u'TitleID': u'46768', u'ItemURL': u'http://www.biodiversitylibrary.org/item/101105 ', u'ZQuery': u'local= ', u'ThumbnailPageID': u'32478969', u'Year': u'1896', u'CreationDate': u'2935749', u'MARCItemID': u'atlasdesplantesd01bois'} on line 139639\n",
      "year is out of range\n",
      "Error with {u'ItemID': u'101132', None: [u'2010-10-04 12:22'], u'VolumeInfo': u'1', u'LocalID': u'', u'CallNumber': u'', u'BarCode': u'indexperfectusad01muel', u'InstitutionName': u'University Library, University of Illinois Urbana Champaign', u'TitleID': u'46792', u'ItemURL': u'http://www.biodiversitylibrary.org/item/101132 ', u'ZQuery': u'local= ', u'ThumbnailPageID': u'32486942', u'Year': u'1880', u'CreationDate': u'1903077', u'MARCItemID': u'indexperfectusad01muel'} on line 139666\n",
      "year is out of range\n",
      "Error with {u'ItemID': u'101594', None: [u'2010-10-31 00:00'], u'VolumeInfo': u'1', u'LocalID': u'', u'CallNumber': u'', u'BarCode': u'nouvellesdcouv01need', u'InstitutionName': u'University Library, University of Illinois Urbana Champaign', u'TitleID': u'47035', u'ItemURL': u'http://www.biodiversitylibrary.org/item/101594 ', u'ZQuery': u'local= ', u'ThumbnailPageID': u'32661915', u'Year': u'', u'CreationDate': u'2167572', u'MARCItemID': u'nouvellesdcouv01need'} on line 141317\n",
      "year is out of range\n",
      "Error with {u'ItemID': u'101644', None: [u'2010-10-31 00:02'], u'VolumeInfo': u'1', u'LocalID': u'', u'CallNumber': u'', u'BarCode': u'nomenclatorbotan01steu', u'InstitutionName': u'University Library, University of Illinois Urbana Champaign', u'TitleID': u'47064', u'ItemURL': u'http://www.biodiversitylibrary.org/item/101644 ', u'ZQuery': u'local= ', u'ThumbnailPageID': u'32680700', u'Year': u'', u'CreationDate': u'6171478', u'MARCItemID': u'nomenclatorbotan01steu'} on line 141367\n",
      "invalid literal for int() with base 10: '(1767)'\n",
      "Error with {u'ItemID': u' (1767)', u'VolumeInfo': u'2014-04-06 00:02', u'LocalID': None, u'CallNumber': u'', u'BarCode': u'1767', u'InstitutionName': None, u'TitleID': u'http://www.biodiversitylibrary.org/item/151919 ', u'ItemURL': None, u'ZQuery': None, u'ThumbnailPageID': u'32044105172852', u'Year': None, u'CreationDate': None, u'MARCItemID': u'Harvard University Botany Libraries'} on line 158629\n"
     ]
    }
   ],
   "source": [
    "def as_int(s):\n",
    "    return None if (s is None) or (len(s.strip()) is 0) else int(s)\n",
    "\n",
    "def as_date(s):\n",
    "    return None if (s is None) or (len(s.strip()) is 0) else parse(s)\n",
    "    \n",
    "\n",
    "def type_data_item(l):\n",
    "    try:\n",
    "        return (\n",
    "            as_int(l[\"ItemID\"]),\n",
    "            as_int(l[\"TitleID\"]),\n",
    "            as_int(l[\"ThumbnailPageID\"]),\n",
    "            l[\"BarCode\"],\n",
    "            l[\"MARCItemID\"],\n",
    "            l[\"CallNumber\"],\n",
    "            l[\"VolumeInfo\"],\n",
    "            l[\"ItemURL\"],\n",
    "            l[\"LocalID\"],\n",
    "            l[\"Year\"],\n",
    "            l[\"InstitutionName\"],\n",
    "            l[\"ZQuery\"],\n",
    "            as_date(l[\"CreationDate\"])\n",
    "        )\n",
    "    except Exception as e:\n",
    "        print(e)\n",
    "        #raise\n",
    "        return False\n",
    "\n",
    "def schema_item():\n",
    "    return types.StructType([\n",
    "        types.StructField(\"itemid\", types.IntegerType(), True),\n",
    "        types.StructField(\"titleid\", types.IntegerType(), True),\n",
    "        types.StructField(\"thumbnailpageid\", types.IntegerType(), True),\n",
    "        types.StructField(\"barcode\", types.StringType(), True),\n",
    "        types.StructField(\"marcitemid\", types.StringType(), True),\n",
    "        types.StructField(\"callnumber\", types.StringType(), True),\n",
    "        types.StructField(\"volumeinfo\", types.StringType(), True),\n",
    "        types.StructField(\"itemurl\", types.StringType(), True),\n",
    "        types.StructField(\"localid\", types.StringType(), True),\n",
    "        types.StructField(\"year\", types.StringType(), True),\n",
    "        types.StructField(\"institutionname\", types.StringType(), True),\n",
    "        types.StructField(\"zquery\", types.StringType(), True),\n",
    "        types.StructField(\"creationdate\", types.DateType(), True)\n",
    "        ])\n",
    "\n",
    "fn = os.path.join(data_dir, \"item.txt\")\n",
    "df = sqlContext.createDataFrame(t_gen(fn, type_data_item), schema_item())"
   ]
  },
  {
   "cell_type": "code",
   "execution_count": 22,
   "metadata": {
    "collapsed": false
   },
   "outputs": [
    {
     "data": {
      "text/plain": [
       "[Row(itemid=202851, titleid=116786, thumbnailpageid=50414006, barcode=u'CAT31301223', marcitemid=u'CAT31301223', callnumber=u'', volumeinfo=u'1918', itemurl=u'http://www.biodiversitylibrary.org/item/202851 ', localid=u'', year=u'', institutionname=u'U.S. Department of Agriculture, National Agricultural Library', zquery=u'', creationdate=datetime.date(2016, 4, 24)),\n",
       " Row(itemid=202852, titleid=116787, thumbnailpageid=50414108, barcode=u'CAT31301224', marcitemid=u'CAT31301224', callnumber=u'', volumeinfo=u'1918', itemurl=u'http://www.biodiversitylibrary.org/item/202852 ', localid=u'', year=u'', institutionname=u'U.S. Department of Agriculture, National Agricultural Library', zquery=u'', creationdate=datetime.date(2016, 4, 24)),\n",
       " Row(itemid=202853, titleid=116788, thumbnailpageid=50414118, barcode=u'CAT31301689', marcitemid=u'CAT31301689', callnumber=u'', volumeinfo=u'1918', itemurl=u'http://www.biodiversitylibrary.org/item/202853 ', localid=u'', year=u'', institutionname=u'U.S. Department of Agriculture, National Agricultural Library', zquery=u'', creationdate=datetime.date(2016, 4, 24))]"
      ]
     },
     "execution_count": 22,
     "metadata": {},
     "output_type": "execute_result"
    }
   ],
   "source": [
    "df.head(3)"
   ]
  },
  {
   "cell_type": "code",
   "execution_count": 6,
   "metadata": {
    "collapsed": false
   },
   "outputs": [
    {
     "name": "stdout",
     "output_type": "stream",
     "text": [
      "Historic, Archive Document \n",
      "\n",
      "Do not assume content reflects current \n",
      "scientific knowledge, policies, or practices. \n",
      "\n",
      "\n",
      "\n",
      "i \n",
      "\n",
      "\n",
      "\n",
      "\n",
      "\n"
     ]
    }
   ],
   "source": [
    "# Now, how to load the OCR text? \n",
    "\n",
    "def mk_ocr_fn(dir_name, barcode):\n",
    "    return os.path.join(mirror_dir, barcode) + \"_djvu.txt\"\n",
    "\n",
    "mirror_dir = \"data/mirror\"\n",
    "\n",
    "def get_ocr(barcode):\n",
    "    try:\n",
    "        with open(mk_ocr_fn(mirror_dir, barcode), 'r') as f:\n",
    "            ocr_text = f.read()\n",
    "    except Exception as e:\n",
    "        #print(e)\n",
    "        ocr_text = None\n",
    "        \n",
    "    return ocr_text        \n",
    "\n",
    "print(get_ocr(\"CAT31293222\")) "
   ]
  },
  {
   "cell_type": "code",
   "execution_count": 7,
   "metadata": {
    "collapsed": false
   },
   "outputs": [
    {
     "name": "stdout",
     "output_type": "stream",
     "text": [
      "181444\n"
     ]
    }
   ],
   "source": [
    "# How about we make a new column as a calculation\n",
    "# first, lets make a little dataset\n",
    "#df2 = df.sample(withReplacement=False, fraction=0.1)\n",
    "df2 = df\n",
    "print(df2.count())\n",
    "\n",
    "get_ocr_udf = sql.udf(get_ocr, types.StringType())\n",
    "\n",
    "df_ocr = df2.withColumn(\"ocrtext\", get_ocr_udf(df[\"barcode\"]))"
   ]
  },
  {
   "cell_type": "code",
   "execution_count": 8,
   "metadata": {
    "collapsed": false
   },
   "outputs": [
    {
     "data": {
      "text/plain": [
       "167766"
      ]
     },
     "execution_count": 8,
     "metadata": {},
     "output_type": "execute_result"
    }
   ],
   "source": [
    "df_ocr.filter(df_ocr[\"ocrtext\"].isNotNull()).count()"
   ]
  },
  {
   "cell_type": "code",
   "execution_count": 10,
   "metadata": {
    "collapsed": false
   },
   "outputs": [],
   "source": [
    "#df_ocr_sm = df_ocr.sample(withReplacement=False, fraction=0.001)"
   ]
  },
  {
   "cell_type": "code",
   "execution_count": 9,
   "metadata": {
    "collapsed": false
   },
   "outputs": [],
   "source": [
    "df_ocr.write.parquet(\"data/first_draft4.parquet\")"
   ]
  },
  {
   "cell_type": "code",
   "execution_count": null,
   "metadata": {
    "collapsed": true
   },
   "outputs": [],
   "source": []
  }
 ],
 "metadata": {
  "kernelspec": {
   "display_name": "Python 2",
   "language": "python",
   "name": "python2"
  },
  "language_info": {
   "codemirror_mode": {
    "name": "ipython",
    "version": 2
   },
   "file_extension": ".py",
   "mimetype": "text/x-python",
   "name": "python",
   "nbconvert_exporter": "python",
   "pygments_lexer": "ipython2",
   "version": "2.7.6"
  }
 },
 "nbformat": 4,
 "nbformat_minor": 0
}
