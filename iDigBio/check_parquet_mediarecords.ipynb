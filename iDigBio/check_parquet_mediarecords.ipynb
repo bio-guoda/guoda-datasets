{
 "cells": [
  {
   "cell_type": "code",
   "execution_count": 10,
   "metadata": {
    "collapsed": true
   },
   "outputs": [],
   "source": [
    "from __future__ import print_function\n",
    "import os\n",
    "import sys"
   ]
  },
  {
   "cell_type": "code",
   "execution_count": 11,
   "metadata": {
    "collapsed": false
   },
   "outputs": [
    {
     "data": {
      "text/plain": [
       "<pyspark.context.SparkContext at 0x7f0a74d837f0>"
      ]
     },
     "execution_count": 11,
     "metadata": {},
     "output_type": "execute_result"
    }
   ],
   "source": [
    "#sc = SparkContext()\n",
    "#sqlContext = SQLContext(sc)\n",
    "sc"
   ]
  },
  {
   "cell_type": "code",
   "execution_count": 12,
   "metadata": {
    "collapsed": false
   },
   "outputs": [],
   "source": [
    "df = sqlContext.read.load(\"/tmp/idigbio-media-scrap-20170611T144515.parquet\")"
   ]
  },
  {
   "cell_type": "code",
   "execution_count": 13,
   "metadata": {
    "collapsed": false
   },
   "outputs": [
    {
     "name": "stdout",
     "output_type": "stream",
     "text": [
      "55\n"
     ]
    },
    {
     "data": {
      "text/plain": [
       "[Row(accessuri='http://osuc.osu.edu/spm_images/OSAL 0103928/73750_compress.jpg', datemodified=datetime.datetime(2015, 5, 6, 0, 42, 33, 923000), dqs=0.6363636255264282, etag='5140c42d67543dd47e16de943ce07b8a53bf1dc2', flags=None, format='image/jpeg', hasSpecimen=True, licenselogourl='https://i.creativecommons.org/l/by-nc-sa/4.0/88x31.png', mediatype='images', modified=datetime.datetime(2015, 2, 9, 10, 47, 33), recordset='95773ebb-2f5f-43f0-a652-bfd8d5f4707a', rights='BY-NC-SA', tag=None, type=None, uuid='17e3d421-3122-4839-86fd-4748edb003b2', version=None, webstatement='http://creativecommons.org/licenses/by-nc-sa/4.0/', xpixels=None, ypixels=None),\n",
       " Row(accessuri='http://osuc.osu.edu/spm_images/OSAL 0104620/73739_compress.jpg', datemodified=datetime.datetime(2015, 5, 6, 0, 42, 33, 957000), dqs=0.6363636255264282, etag='9510295daa95c8779bbd0665b62a972e64d6f706', flags=None, format='image/jpeg', hasSpecimen=True, licenselogourl='https://i.creativecommons.org/l/by-nc-sa/4.0/88x31.png', mediatype='images', modified=datetime.datetime(2015, 2, 9, 10, 47, 36), recordset='95773ebb-2f5f-43f0-a652-bfd8d5f4707a', rights='BY-NC-SA', tag=None, type=None, uuid='196f0c7a-224f-475c-94de-daf474d5cda2', version=None, webstatement='http://creativecommons.org/licenses/by-nc-sa/4.0/', xpixels=None, ypixels=None)]"
      ]
     },
     "execution_count": 13,
     "metadata": {},
     "output_type": "execute_result"
    }
   ],
   "source": [
    "print(df.count())\n",
    "df.head(2)"
   ]
  },
  {
   "cell_type": "code",
   "execution_count": 14,
   "metadata": {
    "collapsed": false
   },
   "outputs": [
    {
     "name": "stdout",
     "output_type": "stream",
     "text": [
      "root\n",
      " |-- accessuri: string (nullable = true)\n",
      " |-- datemodified: timestamp (nullable = true)\n",
      " |-- dqs: float (nullable = true)\n",
      " |-- etag: string (nullable = true)\n",
      " |-- flags: string (nullable = true)\n",
      " |-- format: string (nullable = true)\n",
      " |-- hasSpecimen: boolean (nullable = true)\n",
      " |-- licenselogourl: string (nullable = true)\n",
      " |-- mediatype: string (nullable = true)\n",
      " |-- modified: timestamp (nullable = true)\n",
      " |-- recordset: string (nullable = true)\n",
      " |-- rights: string (nullable = true)\n",
      " |-- tag: string (nullable = true)\n",
      " |-- type: string (nullable = true)\n",
      " |-- uuid: string (nullable = true)\n",
      " |-- version: integer (nullable = true)\n",
      " |-- webstatement: string (nullable = true)\n",
      " |-- xpixels: integer (nullable = true)\n",
      " |-- ypixels: integer (nullable = true)\n",
      "\n"
     ]
    }
   ],
   "source": [
    "df.printSchema()"
   ]
  },
  {
   "cell_type": "code",
   "execution_count": 15,
   "metadata": {
    "collapsed": false
   },
   "outputs": [],
   "source": [
    "from pyspark.sql.types import *\n",
    "def mk_field_set_from_df(df_schema):\n",
    "    \"\"\"Create a set of fieldname::type strings from a df schema\"\"\"\n",
    "    field_set = set()\n",
    "    prefix = \"\"\n",
    "    for i in df_schema:\n",
    "        #print(i)\n",
    "        t = type(i.dataType)\n",
    "        if t is not StringType and \\\n",
    "           t is not FloatType and \\\n",
    "           t is not IntegerType and \\\n",
    "           t is not TimestampType and \\\n",
    "           t is not BooleanType:\n",
    "            #print(i.dataType)\n",
    "            prefix = i.name\n",
    "            \n",
    "            # This only accommodates one level of nesting which is\n",
    "            # consistant with our parquet-building technique. The\n",
    "            # string manipulation on type makes it consistant with\n",
    "            # the JSON returned by the API.\n",
    "            for j in i.dataType:\n",
    "                field_set.add((\"{0}.{1}::{2}\".format(prefix, j.name, \n",
    "                                            str(j.dataType)[:-4].lower())))\n",
    "\n",
    "        else:\n",
    "            field_set.add((\"{0}::{1}\".format(i.name, \n",
    "                                            str(i.dataType)[:-4].lower())))\n",
    "    return field_set\n",
    "df_field_set = mk_field_set_from_df(df.schema)\n",
    "#print(df_field_set)"
   ]
  },
  {
   "cell_type": "code",
   "execution_count": 16,
   "metadata": {
    "collapsed": false
   },
   "outputs": [],
   "source": [
    "import requests\n",
    "\n",
    "def mk_field_set_from_api():\n",
    "    \"\"\"Create a set of fieldname::type strings from the meta API endpoint\"\"\"\n",
    "    meta_fields_records = (requests                                                                                                 \n",
    "        .get(\"http://search.idigbio.org/v2/meta/fields/mediarecords\")                                                 \n",
    "        .json()                                                                                                  \n",
    "    ) \n",
    "    field_set = set()                                                                                                              \n",
    "    for k,v in meta_fields_records.items():\n",
    "        if k == \"data\":                                                                                                             \n",
    "            for kd,vd in v.items():                                                                                                 \n",
    "                if vd.get(\"fieldName\", False):                                                                                      \n",
    "                    field_set.add(\"{0}::{1}\".format(vd[\"fieldName\"],\n",
    "                                                        vd[\"type\"]))\n",
    "        elif v.get(\"fieldName\", False):                                                                                               \n",
    "            field_set.add(\"{0}::{1}\".format(v[\"fieldName\"], v[\"type\"]))\n",
    "        else:\n",
    "            # non-data nested structures, only add top level key\n",
    "            field_set.add(\"{0}::COMPLEX\".format(k))\n",
    "        \n",
    "    return field_set\n",
    "meta_field_set = mk_field_set_from_api()\n",
    "#print(meta_field_set)"
   ]
  },
  {
   "cell_type": "code",
   "execution_count": 17,
   "metadata": {
    "collapsed": false
   },
   "outputs": [
    {
     "name": "stdout",
     "output_type": "stream",
     "text": [
      "In meta endpoint, not df\n",
      "data.Iptc4xmpExt:CountryCode::string\n",
      "data.Iptc4xmpExt:CountryName::string\n",
      "data.Iptc4xmpExt:ProvinceState::string\n",
      "data.Iptc4xmpExt:WorldRegion::string\n",
      "data.ac:accessURI::string\n",
      "data.ac:associatedSpecimenReference::string\n",
      "data.ac:attributionLogoURL::string\n",
      "data.ac:bestQualityAccessURI::string\n",
      "data.ac:bestQualityFormat::string\n",
      "data.ac:caption::string\n",
      "data.ac:captureDevice::string\n",
      "data.ac:comments::string\n",
      "data.ac:digitizationDate::string\n",
      "data.ac:furtherInformationURL::string\n",
      "data.ac:goodQualityAccessURI::string\n",
      "data.ac:hashFunction::string\n",
      "data.ac:hashValue::string\n",
      "data.ac:licenseLogoURL::string\n",
      "data.ac:metadataCreator::string\n",
      "data.ac:metadataLanguage::string\n",
      "data.ac:metadataLanguageLiteral::string\n",
      "data.ac:metadataProvider::string\n",
      "data.ac:metadataProviderLiteral::string\n",
      "data.ac:provider::string\n",
      "data.ac:providerID::string\n",
      "data.ac:providerLiteral::string\n",
      "data.ac:providerManagedID::string\n",
      "data.ac:resourceCreationTechnique::string\n",
      "data.ac:serviceExpectation::string\n",
      "data.ac:subjectCategoryVocabulary::string\n",
      "data.ac:subjectOrientation::string\n",
      "data.ac:subjectPart::string\n",
      "data.ac:subtype::string\n",
      "data.ac:subtypeLiteral::string\n",
      "data.ac:tag::string\n",
      "data.ac:taxonCoverage::string\n",
      "data.ac:thumbnailAccessURI::string\n",
      "data.ac:variant::string\n",
      "data.ac:variantLiteral::string\n",
      "data.coreid::string\n",
      "data.dc:creator::string\n",
      "data.dc:format::string\n",
      "data.dc:language::string\n",
      "data.dc:rights::string\n",
      "data.dc:source::string\n",
      "data.dc:type::string\n",
      "data.dcterms:accessRights::string\n",
      "data.dcterms:available::string\n",
      "data.dcterms:created::string\n",
      "data.dcterms:creator::string\n",
      "data.dcterms:description::string\n",
      "data.dcterms:format::string\n",
      "data.dcterms:identifier::string\n",
      "data.dcterms:language::string\n",
      "data.dcterms:license::string\n",
      "data.dcterms:modified::string\n",
      "data.dcterms:publisher::string\n",
      "data.dcterms:references::string\n",
      "data.dcterms:rights::string\n",
      "data.dcterms:rightsHolder::string\n",
      "data.dcterms:source::string\n",
      "data.dcterms:title::string\n",
      "data.dcterms:type::string\n",
      "data.dwc:basisOfRecord::string\n",
      "data.dwc:catalogNumber::string\n",
      "data.dwc:collectionCode::string\n",
      "data.dwc:collectionID::string\n",
      "data.dwc:coordinateUncertaintyInMeters::string\n",
      "data.dwc:country::string\n",
      "data.dwc:county::string\n",
      "data.dwc:day::string\n",
      "data.dwc:decimalLatitude::string\n",
      "data.dwc:decimalLongitude::string\n",
      "data.dwc:eventDate::string\n",
      "data.dwc:family::string\n",
      "data.dwc:genus::string\n",
      "data.dwc:geodeticDatum::string\n",
      "data.dwc:georeferencedBy::string\n",
      "data.dwc:habitat::string\n",
      "data.dwc:identificationQualifier::string\n",
      "data.dwc:institutionCode::string\n",
      "data.dwc:kingdom::string\n",
      "data.dwc:locality::string\n",
      "data.dwc:month::string\n",
      "data.dwc:municipality::string\n",
      "data.dwc:occurrenceID::string\n",
      "data.dwc:occurrenceRemarks::string\n",
      "data.dwc:order::string\n",
      "data.dwc:otherCatalogNumbers::string\n",
      "data.dwc:phylum::string\n",
      "data.dwc:recordedBy::string\n",
      "data.dwc:scientificName::string\n",
      "data.dwc:scientificNameAuthorship::string\n",
      "data.dwc:specificEpithet::string\n",
      "data.dwc:startDayOfYear::string\n",
      "data.dwc:stateProvince::string\n",
      "data.dwc:year::string\n",
      "data.exif:PixelXDimension::string\n",
      "data.exif:PixelYDimension::string\n",
      "data.id::string\n",
      "data.idigbio:OriginalFileName::string\n",
      "data.idigbio:associatedRecordReference::string\n",
      "data.idigbio:associatedRecordsetReference::string\n",
      "data.idigbio:mediaStatus::string\n",
      "data.idigbio:mediaStatusDate::string\n",
      "data.idigbio:recordId::string\n",
      "data.photoshop:Credit::string\n",
      "data.symbiota:recordEnteredBy::string\n",
      "data.xmp:CreateDate::string\n",
      "data.xmp:MetadataDate::string\n",
      "data.xmpRights:Owner::string\n",
      "data.xmpRights:UsageTerms::string\n",
      "data.xmpRights:WebStatement::string\n",
      "datemodified::date\n",
      "indexData::COMPLEX\n",
      "modified::date\n",
      "recordids::string\n",
      "records::string\n",
      "\n",
      "In df, not meta endpoint\n",
      "datemodified::timestamp\n",
      "modified::timestamp\n"
     ]
    }
   ],
   "source": [
    "# The loaded df is a working data frame of course, what fields are in the\n",
    "# meta endpoint that the df does not have? Are those fields currently \n",
    "# excluded in the parquet generation code or has Alex snuck in new\n",
    "# structures lately?\n",
    "#\n",
    "# Note that ES calls things strings if they're lists of strings so even if\n",
    "# something doesn't show up here, watch for scaler -> vector changes in the\n",
    "# way data is represented in a field.\n",
    "print(\"In meta endpoint, not df\")\n",
    "print(\"\\n\".join(sorted(meta_field_set - df_field_set)))\n",
    "print(\"\\nIn df, not meta endpoint\")\n",
    "print(\"\\n\".join(sorted(df_field_set - meta_field_set)))"
   ]
  }
 ],
 "metadata": {
  "kernelspec": {
   "display_name": "3 - PySpark Python3 Medium",
   "language": "python",
   "name": "pyspark3-med"
  },
  "language_info": {
   "codemirror_mode": {
    "name": "ipython",
    "version": 3
   },
   "file_extension": ".py",
   "mimetype": "text/x-python",
   "name": "python",
   "nbconvert_exporter": "python",
   "pygments_lexer": "ipython3",
   "version": "3.5.2"
  }
 },
 "nbformat": 4,
 "nbformat_minor": 1
}
