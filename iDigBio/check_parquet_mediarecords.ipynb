{
 "cells": [
  {
   "cell_type": "code",
   "execution_count": 18,
   "metadata": {
    "collapsed": true
   },
   "outputs": [],
   "source": [
    "from __future__ import print_function\n",
    "import os\n",
    "import sys"
   ]
  },
  {
   "cell_type": "code",
   "execution_count": 19,
   "metadata": {
    "collapsed": false
   },
   "outputs": [
    {
     "data": {
      "text/plain": [
       "<pyspark.context.SparkContext at 0x7f0a74d837f0>"
      ]
     },
     "execution_count": 19,
     "metadata": {},
     "output_type": "execute_result"
    }
   ],
   "source": [
    "#sc = SparkContext()\n",
    "#sqlContext = SQLContext(sc)\n",
    "sc"
   ]
  },
  {
   "cell_type": "code",
   "execution_count": 20,
   "metadata": {
    "collapsed": false
   },
   "outputs": [],
   "source": [
    "df = sqlContext.read.load(\"/tmp/idigbio-media-scrap-20170611T145102.parquet\")"
   ]
  },
  {
   "cell_type": "code",
   "execution_count": 21,
   "metadata": {
    "collapsed": false
   },
   "outputs": [
    {
     "name": "stdout",
     "output_type": "stream",
     "text": [
      "177596\n"
     ]
    },
    {
     "data": {
      "text/plain": [
       "[Row(accessuri='https://botanydb.colorado.edu/COLO_V/00806/00806653.jpg', data=Row(Iptc4xmpExt:CountryCode=None, Iptc4xmpExt:CountryName=None, Iptc4xmpExt:ProvinceState=None, Iptc4xmpExt:WorldRegion=None, ac:accessURI='https://botanydb.colorado.edu/COLO_V/00806/00806653.jpg', ac:associatedSpecimenReference='https://botanydb.colorado.edu:443/collections/individual/index.php?occid=25', ac:attributionLogoURL=None, ac:bestQualityAccessURI=None, ac:bestQualityFormat=None, ac:caption=None, ac:captureDevice=None, ac:comments=None, ac:digitizationDate=None, ac:furtherInformationURL=None, ac:goodQualityAccessURI='https://botanydb.colorado.edu/COLO_V/00806/00806653.jpg', ac:hashFunction=None, ac:hashValue=None, ac:licenseLogoURL=None, ac:metadataCreator=None, ac:metadataLanguage='en', ac:metadataLanguageLiteral=None, ac:metadataProvider=None, ac:metadataProviderLiteral=None, ac:provider=None, ac:providerID=None, ac:providerLiteral=None, ac:providerManagedID='urn:uuid:e36c3d94-ea0d-40d2-96aa-0d3ffda3f7b4', ac:resourceCreationTechnique=None, ac:serviceExpectation=None, ac:subjectCategoryVocabulary=None, ac:subjectOrientation=None, ac:subjectPart=None, ac:subtype='Photograph', ac:subtypeLiteral=None, ac:tag=None, ac:taxonCoverage=None, ac:thumbnailAccessURI='https://botanydb.colorado.edu/COLO_V/00806/00806653_tn.jpg', ac:variant=None, ac:variantLiteral=None, coreid='25', dc:creator=None, dc:format=None, dc:language=None, dc:rights=None, dc:source=None, dc:type=None, dcterms:accessRights=None, dcterms:available=None, dcterms:created=None, dcterms:creator=None, dcterms:description=None, dcterms:format='image/jpeg', dcterms:identifier='https://botanydb.colorado.edu/COLO_V/00806/00806653.jpg', dcterms:language=None, dcterms:license=None, dcterms:modified=None, dcterms:publisher=None, dcterms:references=None, dcterms:rights=None, dcterms:rightsHolder=None, dcterms:source=None, dcterms:title=None, dcterms:type='StillImage', dwc:basisOfRecord=None, dwc:catalogNumber=None, dwc:collectionCode=None, dwc:collectionID=None, dwc:coordinateUncertaintyInMeters=None, dwc:country=None, dwc:county=None, dwc:day=None, dwc:decimalLatitude=None, dwc:decimalLongitude=None, dwc:eventDate=None, dwc:family=None, dwc:genus=None, dwc:geodeticDatum=None, dwc:georeferencedBy=None, dwc:habitat=None, dwc:identificationQualifier=None, dwc:institutionCode=None, dwc:kingdom=None, dwc:locality=None, dwc:month=None, dwc:municipality=None, dwc:occurrenceID=None, dwc:occurrenceRemarks=None, dwc:order=None, dwc:otherCatalogNumbers=None, dwc:phylum=None, dwc:recordedBy=None, dwc:scientificName=None, dwc:scientificNameAuthorship=None, dwc:specificEpithet=None, dwc:startDayOfYear=None, dwc:stateProvince=None, dwc:year=None, exif:PixelXDimension=None, exif:PixelYDimension=None, id=None, idigbio:OriginalFileName=None, idigbio:associatedRecordReference=None, idigbio:associatedRecordsetReference=None, idigbio:mediaStatus=None, idigbio:mediaStatusDate=None, idigbio:recordId=None, photoshop:Credit=None, symbiota:recordEnteredBy=None, xmp:CreateDate=None, xmp:MetadataDate='2016-07-18 13:04:25', xmpRights:Owner='University of Colorado Museum of Natural History Herbarium Vascular Plant Collection (COLO-V)', xmpRights:UsageTerms='CC BY-NC-SA (Attribution-NonCommercial-ShareAlike)', xmpRights:WebStatement='http://creativecommons.org/licenses/by-nc-sa/3.0/'), datemodified=datetime.datetime(2017, 5, 21, 16, 46, 44, 608000), dqs=0.5454545617103577, etag='33826633ea61761c64fc0a3dedab3fa2b43e90ed', flags=None, format='image/jpeg', hasSpecimen=True, licenselogourl='https://i.creativecommons.org/l/by-nc-sa/4.0/88x31.png', mediatype='images', modified=None, recordset='a2b36fdf-50bc-44ef-a6a4-ca6dc1dc148a', rights='BY-NC-SA', tag=None, type=None, uuid='883051df-eccf-4d89-8960-1fcf261a3f8c', version=None, webstatement='http://creativecommons.org/licenses/by-nc-sa/4.0/', xpixels=None, ypixels=None),\n",
       " Row(accessuri='https://botanydb.colorado.edu/COLO_V/00806/00806612.jpg', data=Row(Iptc4xmpExt:CountryCode=None, Iptc4xmpExt:CountryName=None, Iptc4xmpExt:ProvinceState=None, Iptc4xmpExt:WorldRegion=None, ac:accessURI='https://botanydb.colorado.edu/COLO_V/00806/00806612.jpg', ac:associatedSpecimenReference='https://botanydb.colorado.edu:443/collections/individual/index.php?occid=48', ac:attributionLogoURL=None, ac:bestQualityAccessURI=None, ac:bestQualityFormat=None, ac:caption=None, ac:captureDevice=None, ac:comments=None, ac:digitizationDate=None, ac:furtherInformationURL=None, ac:goodQualityAccessURI='https://botanydb.colorado.edu/COLO_V/00806/00806612.jpg', ac:hashFunction=None, ac:hashValue=None, ac:licenseLogoURL=None, ac:metadataCreator=None, ac:metadataLanguage='en', ac:metadataLanguageLiteral=None, ac:metadataProvider=None, ac:metadataProviderLiteral=None, ac:provider=None, ac:providerID=None, ac:providerLiteral=None, ac:providerManagedID='urn:uuid:fd955f55-bd4c-4a98-8244-abbbf0d8bcc3', ac:resourceCreationTechnique=None, ac:serviceExpectation=None, ac:subjectCategoryVocabulary=None, ac:subjectOrientation=None, ac:subjectPart=None, ac:subtype='Photograph', ac:subtypeLiteral=None, ac:tag=None, ac:taxonCoverage=None, ac:thumbnailAccessURI='https://botanydb.colorado.edu/COLO_V/00806/00806612_tn.jpg', ac:variant=None, ac:variantLiteral=None, coreid='48', dc:creator=None, dc:format=None, dc:language=None, dc:rights=None, dc:source=None, dc:type=None, dcterms:accessRights=None, dcterms:available=None, dcterms:created=None, dcterms:creator=None, dcterms:description=None, dcterms:format='image/jpeg', dcterms:identifier='https://botanydb.colorado.edu/COLO_V/00806/00806612.jpg', dcterms:language=None, dcterms:license=None, dcterms:modified=None, dcterms:publisher=None, dcterms:references=None, dcterms:rights=None, dcterms:rightsHolder=None, dcterms:source=None, dcterms:title=None, dcterms:type='StillImage', dwc:basisOfRecord=None, dwc:catalogNumber=None, dwc:collectionCode=None, dwc:collectionID=None, dwc:coordinateUncertaintyInMeters=None, dwc:country=None, dwc:county=None, dwc:day=None, dwc:decimalLatitude=None, dwc:decimalLongitude=None, dwc:eventDate=None, dwc:family=None, dwc:genus=None, dwc:geodeticDatum=None, dwc:georeferencedBy=None, dwc:habitat=None, dwc:identificationQualifier=None, dwc:institutionCode=None, dwc:kingdom=None, dwc:locality=None, dwc:month=None, dwc:municipality=None, dwc:occurrenceID=None, dwc:occurrenceRemarks=None, dwc:order=None, dwc:otherCatalogNumbers=None, dwc:phylum=None, dwc:recordedBy=None, dwc:scientificName=None, dwc:scientificNameAuthorship=None, dwc:specificEpithet=None, dwc:startDayOfYear=None, dwc:stateProvince=None, dwc:year=None, exif:PixelXDimension=None, exif:PixelYDimension=None, id=None, idigbio:OriginalFileName=None, idigbio:associatedRecordReference=None, idigbio:associatedRecordsetReference=None, idigbio:mediaStatus=None, idigbio:mediaStatusDate=None, idigbio:recordId=None, photoshop:Credit=None, symbiota:recordEnteredBy=None, xmp:CreateDate=None, xmp:MetadataDate='2016-07-18 13:04:24', xmpRights:Owner='University of Colorado Museum of Natural History Herbarium Vascular Plant Collection (COLO-V)', xmpRights:UsageTerms='CC BY-NC-SA (Attribution-NonCommercial-ShareAlike)', xmpRights:WebStatement='http://creativecommons.org/licenses/by-nc-sa/3.0/'), datemodified=datetime.datetime(2017, 5, 21, 16, 46, 44, 608000), dqs=0.5454545617103577, etag='b3aee197d23d5edda5ffdcab54ff732bdf1708bf', flags=None, format='image/jpeg', hasSpecimen=True, licenselogourl='https://i.creativecommons.org/l/by-nc-sa/4.0/88x31.png', mediatype='images', modified=None, recordset='a2b36fdf-50bc-44ef-a6a4-ca6dc1dc148a', rights='BY-NC-SA', tag=None, type=None, uuid='d2c9fe59-3150-4d49-91d1-14c5a8279e4a', version=None, webstatement='http://creativecommons.org/licenses/by-nc-sa/4.0/', xpixels=None, ypixels=None)]"
      ]
     },
     "execution_count": 21,
     "metadata": {},
     "output_type": "execute_result"
    }
   ],
   "source": [
    "print(df.count())\n",
    "df.head(2)"
   ]
  },
  {
   "cell_type": "code",
   "execution_count": 22,
   "metadata": {
    "collapsed": false
   },
   "outputs": [
    {
     "name": "stdout",
     "output_type": "stream",
     "text": [
      "root\n",
      " |-- accessuri: string (nullable = true)\n",
      " |-- data: struct (nullable = true)\n",
      " |    |-- Iptc4xmpExt:CountryCode: string (nullable = true)\n",
      " |    |-- Iptc4xmpExt:CountryName: string (nullable = true)\n",
      " |    |-- Iptc4xmpExt:ProvinceState: string (nullable = true)\n",
      " |    |-- Iptc4xmpExt:WorldRegion: string (nullable = true)\n",
      " |    |-- ac:accessURI: string (nullable = true)\n",
      " |    |-- ac:associatedSpecimenReference: string (nullable = true)\n",
      " |    |-- ac:attributionLogoURL: string (nullable = true)\n",
      " |    |-- ac:bestQualityAccessURI: string (nullable = true)\n",
      " |    |-- ac:bestQualityFormat: string (nullable = true)\n",
      " |    |-- ac:caption: string (nullable = true)\n",
      " |    |-- ac:captureDevice: string (nullable = true)\n",
      " |    |-- ac:comments: string (nullable = true)\n",
      " |    |-- ac:digitizationDate: string (nullable = true)\n",
      " |    |-- ac:furtherInformationURL: string (nullable = true)\n",
      " |    |-- ac:goodQualityAccessURI: string (nullable = true)\n",
      " |    |-- ac:hashFunction: string (nullable = true)\n",
      " |    |-- ac:hashValue: string (nullable = true)\n",
      " |    |-- ac:licenseLogoURL: string (nullable = true)\n",
      " |    |-- ac:metadataCreator: string (nullable = true)\n",
      " |    |-- ac:metadataLanguage: string (nullable = true)\n",
      " |    |-- ac:metadataLanguageLiteral: string (nullable = true)\n",
      " |    |-- ac:metadataProvider: string (nullable = true)\n",
      " |    |-- ac:metadataProviderLiteral: string (nullable = true)\n",
      " |    |-- ac:provider: string (nullable = true)\n",
      " |    |-- ac:providerID: string (nullable = true)\n",
      " |    |-- ac:providerLiteral: string (nullable = true)\n",
      " |    |-- ac:providerManagedID: string (nullable = true)\n",
      " |    |-- ac:resourceCreationTechnique: string (nullable = true)\n",
      " |    |-- ac:serviceExpectation: string (nullable = true)\n",
      " |    |-- ac:subjectCategoryVocabulary: string (nullable = true)\n",
      " |    |-- ac:subjectOrientation: string (nullable = true)\n",
      " |    |-- ac:subjectPart: string (nullable = true)\n",
      " |    |-- ac:subtype: string (nullable = true)\n",
      " |    |-- ac:subtypeLiteral: string (nullable = true)\n",
      " |    |-- ac:tag: string (nullable = true)\n",
      " |    |-- ac:taxonCoverage: string (nullable = true)\n",
      " |    |-- ac:thumbnailAccessURI: string (nullable = true)\n",
      " |    |-- ac:variant: string (nullable = true)\n",
      " |    |-- ac:variantLiteral: string (nullable = true)\n",
      " |    |-- coreid: string (nullable = true)\n",
      " |    |-- dc:creator: string (nullable = true)\n",
      " |    |-- dc:format: string (nullable = true)\n",
      " |    |-- dc:language: string (nullable = true)\n",
      " |    |-- dc:rights: string (nullable = true)\n",
      " |    |-- dc:source: string (nullable = true)\n",
      " |    |-- dc:type: string (nullable = true)\n",
      " |    |-- dcterms:accessRights: string (nullable = true)\n",
      " |    |-- dcterms:available: string (nullable = true)\n",
      " |    |-- dcterms:created: string (nullable = true)\n",
      " |    |-- dcterms:creator: string (nullable = true)\n",
      " |    |-- dcterms:description: string (nullable = true)\n",
      " |    |-- dcterms:format: string (nullable = true)\n",
      " |    |-- dcterms:identifier: string (nullable = true)\n",
      " |    |-- dcterms:language: string (nullable = true)\n",
      " |    |-- dcterms:license: string (nullable = true)\n",
      " |    |-- dcterms:modified: string (nullable = true)\n",
      " |    |-- dcterms:publisher: string (nullable = true)\n",
      " |    |-- dcterms:references: string (nullable = true)\n",
      " |    |-- dcterms:rights: string (nullable = true)\n",
      " |    |-- dcterms:rightsHolder: string (nullable = true)\n",
      " |    |-- dcterms:source: string (nullable = true)\n",
      " |    |-- dcterms:title: string (nullable = true)\n",
      " |    |-- dcterms:type: string (nullable = true)\n",
      " |    |-- dwc:basisOfRecord: string (nullable = true)\n",
      " |    |-- dwc:catalogNumber: string (nullable = true)\n",
      " |    |-- dwc:collectionCode: string (nullable = true)\n",
      " |    |-- dwc:collectionID: string (nullable = true)\n",
      " |    |-- dwc:coordinateUncertaintyInMeters: string (nullable = true)\n",
      " |    |-- dwc:country: string (nullable = true)\n",
      " |    |-- dwc:county: string (nullable = true)\n",
      " |    |-- dwc:day: string (nullable = true)\n",
      " |    |-- dwc:decimalLatitude: string (nullable = true)\n",
      " |    |-- dwc:decimalLongitude: string (nullable = true)\n",
      " |    |-- dwc:eventDate: string (nullable = true)\n",
      " |    |-- dwc:family: string (nullable = true)\n",
      " |    |-- dwc:genus: string (nullable = true)\n",
      " |    |-- dwc:geodeticDatum: string (nullable = true)\n",
      " |    |-- dwc:georeferencedBy: string (nullable = true)\n",
      " |    |-- dwc:habitat: string (nullable = true)\n",
      " |    |-- dwc:identificationQualifier: string (nullable = true)\n",
      " |    |-- dwc:institutionCode: string (nullable = true)\n",
      " |    |-- dwc:kingdom: string (nullable = true)\n",
      " |    |-- dwc:locality: string (nullable = true)\n",
      " |    |-- dwc:month: string (nullable = true)\n",
      " |    |-- dwc:municipality: string (nullable = true)\n",
      " |    |-- dwc:occurrenceID: string (nullable = true)\n",
      " |    |-- dwc:occurrenceRemarks: string (nullable = true)\n",
      " |    |-- dwc:order: string (nullable = true)\n",
      " |    |-- dwc:otherCatalogNumbers: string (nullable = true)\n",
      " |    |-- dwc:phylum: string (nullable = true)\n",
      " |    |-- dwc:recordedBy: string (nullable = true)\n",
      " |    |-- dwc:scientificName: string (nullable = true)\n",
      " |    |-- dwc:scientificNameAuthorship: string (nullable = true)\n",
      " |    |-- dwc:specificEpithet: string (nullable = true)\n",
      " |    |-- dwc:startDayOfYear: string (nullable = true)\n",
      " |    |-- dwc:stateProvince: string (nullable = true)\n",
      " |    |-- dwc:year: string (nullable = true)\n",
      " |    |-- exif:PixelXDimension: string (nullable = true)\n",
      " |    |-- exif:PixelYDimension: string (nullable = true)\n",
      " |    |-- id: string (nullable = true)\n",
      " |    |-- idigbio:OriginalFileName: string (nullable = true)\n",
      " |    |-- idigbio:associatedRecordReference: string (nullable = true)\n",
      " |    |-- idigbio:associatedRecordsetReference: string (nullable = true)\n",
      " |    |-- idigbio:mediaStatus: string (nullable = true)\n",
      " |    |-- idigbio:mediaStatusDate: string (nullable = true)\n",
      " |    |-- idigbio:recordId: string (nullable = true)\n",
      " |    |-- photoshop:Credit: string (nullable = true)\n",
      " |    |-- symbiota:recordEnteredBy: string (nullable = true)\n",
      " |    |-- xmp:CreateDate: string (nullable = true)\n",
      " |    |-- xmp:MetadataDate: string (nullable = true)\n",
      " |    |-- xmpRights:Owner: string (nullable = true)\n",
      " |    |-- xmpRights:UsageTerms: string (nullable = true)\n",
      " |    |-- xmpRights:WebStatement: string (nullable = true)\n",
      " |-- datemodified: timestamp (nullable = true)\n",
      " |-- dqs: float (nullable = true)\n",
      " |-- etag: string (nullable = true)\n",
      " |-- flags: string (nullable = true)\n",
      " |-- format: string (nullable = true)\n",
      " |-- hasSpecimen: boolean (nullable = true)\n",
      " |-- licenselogourl: string (nullable = true)\n",
      " |-- mediatype: string (nullable = true)\n",
      " |-- modified: timestamp (nullable = true)\n",
      " |-- recordset: string (nullable = true)\n",
      " |-- rights: string (nullable = true)\n",
      " |-- tag: string (nullable = true)\n",
      " |-- type: string (nullable = true)\n",
      " |-- uuid: string (nullable = true)\n",
      " |-- version: integer (nullable = true)\n",
      " |-- webstatement: string (nullable = true)\n",
      " |-- xpixels: integer (nullable = true)\n",
      " |-- ypixels: integer (nullable = true)\n",
      "\n"
     ]
    }
   ],
   "source": [
    "df.printSchema()"
   ]
  },
  {
   "cell_type": "code",
   "execution_count": 23,
   "metadata": {
    "collapsed": false
   },
   "outputs": [],
   "source": [
    "from pyspark.sql.types import *\n",
    "def mk_field_set_from_df(df_schema):\n",
    "    \"\"\"Create a set of fieldname::type strings from a df schema\"\"\"\n",
    "    field_set = set()\n",
    "    prefix = \"\"\n",
    "    for i in df_schema:\n",
    "        #print(i)\n",
    "        t = type(i.dataType)\n",
    "        if t is not StringType and \\\n",
    "           t is not FloatType and \\\n",
    "           t is not IntegerType and \\\n",
    "           t is not TimestampType and \\\n",
    "           t is not BooleanType:\n",
    "            #print(i.dataType)\n",
    "            prefix = i.name\n",
    "            \n",
    "            # This only accommodates one level of nesting which is\n",
    "            # consistant with our parquet-building technique. The\n",
    "            # string manipulation on type makes it consistant with\n",
    "            # the JSON returned by the API.\n",
    "            for j in i.dataType:\n",
    "                field_set.add((\"{0}.{1}::{2}\".format(prefix, j.name, \n",
    "                                            str(j.dataType)[:-4].lower())))\n",
    "\n",
    "        else:\n",
    "            field_set.add((\"{0}::{1}\".format(i.name, \n",
    "                                            str(i.dataType)[:-4].lower())))\n",
    "    return field_set\n",
    "df_field_set = mk_field_set_from_df(df.schema)\n",
    "#print(df_field_set)"
   ]
  },
  {
   "cell_type": "code",
   "execution_count": 24,
   "metadata": {
    "collapsed": false
   },
   "outputs": [],
   "source": [
    "import requests\n",
    "\n",
    "def mk_field_set_from_api():\n",
    "    \"\"\"Create a set of fieldname::type strings from the meta API endpoint\"\"\"\n",
    "    meta_fields_records = (requests                                                                                                 \n",
    "        .get(\"http://search.idigbio.org/v2/meta/fields/mediarecords\")                                                 \n",
    "        .json()                                                                                                  \n",
    "    ) \n",
    "    field_set = set()                                                                                                              \n",
    "    for k,v in meta_fields_records.items():\n",
    "        if k == \"data\":                                                                                                             \n",
    "            for kd,vd in v.items():                                                                                                 \n",
    "                if vd.get(\"fieldName\", False):                                                                                      \n",
    "                    field_set.add(\"{0}::{1}\".format(vd[\"fieldName\"],\n",
    "                                                        vd[\"type\"]))\n",
    "        elif v.get(\"fieldName\", False):                                                                                               \n",
    "            field_set.add(\"{0}::{1}\".format(v[\"fieldName\"], v[\"type\"]))\n",
    "        else:\n",
    "            # non-data nested structures, only add top level key\n",
    "            field_set.add(\"{0}::COMPLEX\".format(k))\n",
    "        \n",
    "    return field_set\n",
    "meta_field_set = mk_field_set_from_api()\n",
    "#print(meta_field_set)"
   ]
  },
  {
   "cell_type": "code",
   "execution_count": 25,
   "metadata": {
    "collapsed": false
   },
   "outputs": [
    {
     "name": "stdout",
     "output_type": "stream",
     "text": [
      "In meta endpoint, not df\n",
      "datemodified::date\n",
      "indexData::COMPLEX\n",
      "modified::date\n",
      "recordids::string\n",
      "records::string\n",
      "\n",
      "In df, not meta endpoint\n",
      "datemodified::timestamp\n",
      "modified::timestamp\n"
     ]
    }
   ],
   "source": [
    "# The loaded df is a working data frame of course, what fields are in the\n",
    "# meta endpoint that the df does not have? Are those fields currently \n",
    "# excluded in the parquet generation code or has Alex snuck in new\n",
    "# structures lately?\n",
    "#\n",
    "# Note that ES calls things strings if they're lists of strings so even if\n",
    "# something doesn't show up here, watch for scaler -> vector changes in the\n",
    "# way data is represented in a field.\n",
    "print(\"In meta endpoint, not df\")\n",
    "print(\"\\n\".join(sorted(meta_field_set - df_field_set)))\n",
    "print(\"\\nIn df, not meta endpoint\")\n",
    "print(\"\\n\".join(sorted(df_field_set - meta_field_set)))"
   ]
  }
 ],
 "metadata": {
  "kernelspec": {
   "display_name": "3 - PySpark Python3 Medium",
   "language": "python",
   "name": "pyspark3-med"
  },
  "language_info": {
   "codemirror_mode": {
    "name": "ipython",
    "version": 3
   },
   "file_extension": ".py",
   "mimetype": "text/x-python",
   "name": "python",
   "nbconvert_exporter": "python",
   "pygments_lexer": "ipython3",
   "version": "3.5.2"
  }
 },
 "nbformat": 4,
 "nbformat_minor": 1
}
