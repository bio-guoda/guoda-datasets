{
 "cells": [
  {
   "cell_type": "code",
   "execution_count": 1,
   "metadata": {
    "collapsed": false
   },
   "outputs": [
    {
     "data": {
      "text/plain": [
       "<pyspark.context.SparkContext at 0x7f38131f87f0>"
      ]
     },
     "execution_count": 1,
     "metadata": {},
     "output_type": "execute_result"
    }
   ],
   "source": [
    "sc"
   ]
  },
  {
   "cell_type": "code",
   "execution_count": 58,
   "metadata": {
    "collapsed": true
   },
   "outputs": [],
   "source": [
    "nodes = \"c18node14.acis.ufl.edu,c18node2.acis.ufl.edu,c18node6.acis.ufl.edu,c18node10.acis.ufl.edu,c18node12.acis.ufl.edu\"\n",
    "index = \"idigbio\"\n",
    "#{\"bool\": \n",
    "#    {\"must\": [\n",
    "#        {\"term\":{\"recordset\":\"95773ebb-2f5f-43f0-a652-bfd8d5f4707a\"}}\n",
    "#        ]\n",
    "#    }\n",
    "#},\n",
    "query = \"\"\"{\"query\": {\n",
    "    \"bool\": {\n",
    "        \"must\": [\n",
    "            {\n",
    "                \"term\": {\"recordset\": \"95773ebb-2f5f-43f0-a652-bfd8d5f4707a\"}\n",
    "            }\n",
    "        ]\n",
    "}}}\"\"\"\n",
    "\n"
   ]
  },
  {
   "cell_type": "code",
   "execution_count": 59,
   "metadata": {
    "collapsed": true
   },
   "outputs": [],
   "source": [
    "field_set = [\"uuid\", \"licenselogourl\"]\n",
    "fields = \",\".join(field_set)"
   ]
  },
  {
   "cell_type": "code",
   "execution_count": 60,
   "metadata": {
    "collapsed": false
   },
   "outputs": [],
   "source": [
    "df = (sqlContext.read.format(\"org.elasticsearch.spark.sql\")\n",
    "    .option(\"es.read.field.include\", fields)\n",
    "    .option(\"es.nodes\", nodes)\n",
    "    .option(\"es.query\", query)\n",
    "    .load(\"{0}/mediarecords\".format(index))\n",
    ")  \n"
   ]
  },
  {
   "cell_type": "code",
   "execution_count": 61,
   "metadata": {
    "collapsed": false
   },
   "outputs": [
    {
     "name": "stdout",
     "output_type": "stream",
     "text": [
      "55\n",
      "root\n",
      " |-- licenselogourl: string (nullable = true)\n",
      " |-- uuid: string (nullable = true)\n",
      "\n"
     ]
    }
   ],
   "source": [
    "print(df.count())\n",
    "df.printSchema()"
   ]
  },
  {
   "cell_type": "code",
   "execution_count": 63,
   "metadata": {
    "collapsed": false
   },
   "outputs": [
    {
     "data": {
      "text/plain": [
       "[Row(licenselogourl='https://i.creativecommons.org/l/by-nc-sa/4.0/88x31.png', uuid='586f354a-b85b-4a14-865a-6a609df94a0c'),\n",
       " Row(licenselogourl='https://i.creativecommons.org/l/by-nc-sa/4.0/88x31.png', uuid='1b5dd966-623b-4304-8d63-a9b757b4b608'),\n",
       " Row(licenselogourl='https://i.creativecommons.org/l/by-nc-sa/4.0/88x31.png', uuid='2269ae53-03aa-463e-97ac-ee5afe05660e'),\n",
       " Row(licenselogourl='https://i.creativecommons.org/l/by-nc-sa/4.0/88x31.png', uuid='09077a63-88a9-476c-a889-7cf2c43f16ee'),\n",
       " Row(licenselogourl='https://i.creativecommons.org/l/by-nc-sa/4.0/88x31.png', uuid='17e3d421-3122-4839-86fd-4748edb003b2'),\n",
       " Row(licenselogourl='https://i.creativecommons.org/l/by-nc-sa/4.0/88x31.png', uuid='196f0c7a-224f-475c-94de-daf474d5cda2'),\n",
       " Row(licenselogourl='https://i.creativecommons.org/l/by-nc-sa/4.0/88x31.png', uuid='2822622f-3d03-41cc-9080-d42af9fefc37'),\n",
       " Row(licenselogourl='https://i.creativecommons.org/l/by-nc-sa/4.0/88x31.png', uuid='4160a3e0-e9c0-452b-a29c-a83ebfc40c75'),\n",
       " Row(licenselogourl='https://i.creativecommons.org/l/by-nc-sa/4.0/88x31.png', uuid='5ae928ab-d713-43e1-bf85-326f7d702613'),\n",
       " Row(licenselogourl='https://i.creativecommons.org/l/by-nc-sa/4.0/88x31.png', uuid='5c35c040-90f8-4d47-a562-9da4ee90f521')]"
      ]
     },
     "execution_count": 63,
     "metadata": {},
     "output_type": "execute_result"
    }
   ],
   "source": [
    "df.head(10)"
   ]
  }
 ],
 "metadata": {
  "kernelspec": {
   "display_name": "3 - PySpark Python3 Medium",
   "language": "python",
   "name": "pyspark3-med"
  },
  "language_info": {
   "codemirror_mode": {
    "name": "ipython",
    "version": 3
   },
   "file_extension": ".py",
   "mimetype": "text/x-python",
   "name": "python",
   "nbconvert_exporter": "python",
   "pygments_lexer": "ipython3",
   "version": "3.5.2"
  }
 },
 "nbformat": 4,
 "nbformat_minor": 1
}
