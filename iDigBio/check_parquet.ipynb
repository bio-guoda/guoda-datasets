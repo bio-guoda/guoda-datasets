{
 "cells": [
  {
   "cell_type": "code",
   "execution_count": 1,
   "metadata": {
    "collapsed": true
   },
   "outputs": [],
   "source": [
    "from __future__ import print_function\n",
    "import os\n",
    "import sys"
   ]
  },
  {
   "cell_type": "code",
   "execution_count": 2,
   "metadata": {
    "collapsed": true
   },
   "outputs": [],
   "source": [
    "# Someday this has to go in a config or kernel\n",
    "\n",
    "spark_home = '/opt/spark/latest'\n",
    "\n",
    "os.environ['SPARK_HOME'] = spark_home\n",
    "sys.path.insert(0, spark_home + \"/python\")\n",
    "sys.path.insert(0, os.path.join(spark_home, 'python/lib/py4j-0.10.1-src.zip'))\n",
    "\n",
    "from pyspark.context import SparkContext\n",
    "from pyspark.context import SparkConf\n",
    "from pyspark.sql import SQLContext"
   ]
  },
  {
   "cell_type": "code",
   "execution_count": 3,
   "metadata": {
    "collapsed": true
   },
   "outputs": [],
   "source": [
    "sc = SparkContext()\n",
    "sqlContext = SQLContext(sc)"
   ]
  },
  {
   "cell_type": "code",
   "execution_count": 8,
   "metadata": {
    "collapsed": false
   },
   "outputs": [],
   "source": [
    "df = sqlContext.read.load(\"data/idigbio-20161024.parquet\")"
   ]
  },
  {
   "cell_type": "code",
   "execution_count": 9,
   "metadata": {
    "collapsed": false
   },
   "outputs": [
    {
     "name": "stdout",
     "output_type": "stream",
     "text": [
      "34658\n"
     ]
    },
    {
     "data": {
      "text/plain": [
       "[Row(barcodevalue=None, basisofrecord='preservedspecimen', canonicalname='acer saccharinum l.', catalognumber='42303', class='magnoliopsida', collectioncode='kanu', collectionid=None, collector='r.h. imler', commonname=None, continent='north america', country='united states', countrycode='usa', datecollected=datetime.datetime(1929, 6, 14, 20, 0), family='sapindaceae', fieldnumber='s.n.', genus='acer', group=None, highertaxon=None, individualcount=None, infraspecificepithet=None, kingdom='plantae', municipality=None, order='sapindales', phylum='tracheophyta', scientificname='acer saccharinum', specificepithet='saccharinum', stateprovince='kansas', uuid='5d044b60-212e-4ea9-9d25-d3f9bc7c93e8', waterbody=None),\n",
       " Row(barcodevalue=None, basisofrecord='preservedspecimen', canonicalname='acer macrophyllum pursh', catalognumber='hsc30204', class='magnoliopsida', collectioncode='vascularplants', collectionid=None, collector='william j. ferlatte', commonname=None, continent='north america', country='united states', countrycode='usa', datecollected=datetime.datetime(1968, 6, 8, 20, 0), family='sapindaceae', fieldnumber=None, genus='acer', group=None, highertaxon=None, individualcount=1.0, infraspecificepithet=None, kingdom='plantae', municipality=None, order='sapindales', phylum='tracheophyta', scientificname='acer macrophyllum', specificepithet='macrophyllum', stateprovince='california', uuid='5d17ae6c-4925-4418-9838-709303d0f48a', waterbody=None),\n",
       " Row(barcodevalue=None, basisofrecord='preservedspecimen', canonicalname='acer palmatum c.p. thunberg ex a. murray', catalognumber='khd00016377', class='magnoliopsida', collectioncode='khd', collectionid='ca77be98-2a59-4aa9-bfc1-5ea615f2e6b7', collector='janet l. wingate', commonname=None, continent='north america', country='united states', countrycode='usa', datecollected=datetime.datetime(2006, 7, 9, 20, 0), family='sapindaceae', fieldnumber=None, genus='acer', group=None, highertaxon=None, individualcount=None, infraspecificepithet=None, kingdom='plantae', municipality=None, order='sapindales', phylum='tracheophyta', scientificname=\"acer palmatum thunb. 'beni-schichihenge'\", specificepithet='palmatum', stateprovince='colorado', uuid='5d61f24a-6203-48ea-93c5-e3146ed7a50a', waterbody=None),\n",
       " Row(barcodevalue=None, basisofrecord='preservedspecimen', canonicalname='acer spicatum lam.', catalognumber='conn00129813', class='magnoliopsida', collectioncode='conn', collectionid=None, collector='m.a. chrysler', commonname='mountain maple', continent=None, country=None, countrycode=None, datecollected=datetime.datetime(2016, 10, 3, 20, 0), family='sapindaceae', fieldnumber=None, genus='acer', group=None, highertaxon='plantae; dicotyledonae; sapindales; aceraceae', individualcount=None, infraspecificepithet=None, kingdom='plantae', municipality=None, order='sapindales', phylum='tracheophyta', scientificname='acer spicatum lam.', specificepithet='spicatum', stateprovince=None, uuid='5f5ec7a5-a020-403e-921e-3d77abc7278b', waterbody=None),\n",
       " Row(barcodevalue=None, basisofrecord='preservedspecimen', canonicalname='acer dubium', catalognumber='296903', class='magnoliopsida', collectioncode='vascular plants', collectionid=None, collector='bourdo, jr., eric', commonname=None, continent='north america', country='united states', countrycode='usa', datecollected=datetime.datetime(1965, 9, 4, 20, 0), family='sapindaceae', fieldnumber='1', genus='acer', group=None, highertaxon=None, individualcount=None, infraspecificepithet=None, kingdom='plantae', municipality=None, order='sapindales', phylum='tracheophyta', scientificname='acer rubrum', specificepithet='rubrum', stateprovince='michigan', uuid='5f787208-fe8f-4690-91a5-79000d7ee4db', waterbody=None),\n",
       " Row(barcodevalue=None, basisofrecord='preservedspecimen', canonicalname='acer platanoides l.', catalognumber='353107', class='magnoliopsida', collectioncode='kanu', collectionid=None, collector='caleb a morse', commonname=None, continent='north america', country='united states', countrycode='usa', datecollected=datetime.datetime(2006, 4, 16, 20, 0), family='sapindaceae', fieldnumber='12674', genus='acer', group=None, highertaxon=None, individualcount=None, infraspecificepithet=None, kingdom='plantae', municipality=None, order='sapindales', phylum='tracheophyta', scientificname='acer platanoides', specificepithet='platanoides', stateprovince='kansas', uuid='5f8eac7d-c0cc-43ea-a07e-c82c20c01728', waterbody=None),\n",
       " Row(barcodevalue=None, basisofrecord='preservedspecimen', canonicalname='acer leucoderme small', catalognumber='vsc0008387', class='magnoliopsida', collectioncode='herb', collectionid=None, collector='nancy c. coile ,   et al.', commonname='chalk maple', continent='north america', country='united states', countrycode='usa', datecollected=datetime.datetime(1984, 5, 18, 20, 0), family='sapindaceae', fieldnumber=None, genus='acer', group=None, highertaxon=None, individualcount=None, infraspecificepithet=None, kingdom='plantae', municipality=None, order='sapindales', phylum='tracheophyta', scientificname='acer leucoderme', specificepithet='leucoderme', stateprovince='georgia', uuid='5fa38b3b-dc5e-4eb7-8556-b1cb9bb72597', waterbody=None),\n",
       " Row(barcodevalue=None, basisofrecord='preservedspecimen', canonicalname='acer saccharum marshall', catalognumber='297221', class='magnoliopsida', collectioncode='vascular plants', collectionid=None, collector='bourdo, jr., eric', commonname=None, continent='north america', country='united states', countrycode='usa', datecollected=datetime.datetime(1964, 5, 8, 20, 0), family='sapindaceae', fieldnumber='1', genus='acer', group=None, highertaxon=None, individualcount=None, infraspecificepithet=None, kingdom='plantae', municipality=None, order='sapindales', phylum='tracheophyta', scientificname='acer saccharum', specificepithet='saccharum', stateprovince='michigan', uuid='5fa8794d-a346-449e-a4fa-abd492ed46c8', waterbody=None),\n",
       " Row(barcodevalue=None, basisofrecord='preservedspecimen', canonicalname='acer macrophyllum pursh', catalognumber='ucr4151', class='magnoliopsida', collectioncode='vascularplants', collectionid=None, collector='r. h. sauer', commonname=None, continent='north america', country='united states', countrycode='usa', datecollected=datetime.datetime(1965, 4, 12, 19, 0), family='sapindaceae', fieldnumber=None, genus='acer', group=None, highertaxon=None, individualcount=1.0, infraspecificepithet=None, kingdom='plantae', municipality=None, order='sapindales', phylum='tracheophyta', scientificname='acer macrophyllum', specificepithet='macrophyllum', stateprovince='california', uuid='60448e32-9d73-410c-9122-a93953f05121', waterbody=None),\n",
       " Row(barcodevalue=None, basisofrecord='preservedspecimen', canonicalname='acer macrophyllum pursh', catalognumber='clark-a1528-1371', class='magnoliopsida', collectioncode='vascularplants', collectionid=None, collector='john c. roos', commonname=None, continent='north america', country='united states', countrycode='usa', datecollected=datetime.datetime(1937, 5, 8, 20, 0), family='sapindaceae', fieldnumber=None, genus='acer', group=None, highertaxon=None, individualcount=1.0, infraspecificepithet=None, kingdom='plantae', municipality=None, order='sapindales', phylum='tracheophyta', scientificname='acer macrophyllum', specificepithet='macrophyllum', stateprovince='california', uuid='6050db8a-afd9-426d-b2d6-ed42e3c6e322', waterbody=None)]"
      ]
     },
     "execution_count": 9,
     "metadata": {},
     "output_type": "execute_result"
    }
   ],
   "source": [
    "print(df.count())\n",
    "df.head(10)"
   ]
  },
  {
   "cell_type": "code",
   "execution_count": null,
   "metadata": {
    "collapsed": true
   },
   "outputs": [],
   "source": []
  }
 ],
 "metadata": {
  "kernelspec": {
   "display_name": "Python 3",
   "language": "python",
   "name": "python3"
  },
  "language_info": {
   "codemirror_mode": {
    "name": "ipython",
    "version": 3
   },
   "file_extension": ".py",
   "mimetype": "text/x-python",
   "name": "python",
   "nbconvert_exporter": "python",
   "pygments_lexer": "ipython3",
   "version": "3.5.2"
  }
 },
 "nbformat": 4,
 "nbformat_minor": 1
}
