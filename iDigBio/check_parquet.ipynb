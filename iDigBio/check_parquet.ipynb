{
 "cells": [
  {
   "cell_type": "code",
   "execution_count": 111,
   "metadata": {
    "collapsed": true
   },
   "outputs": [],
   "source": [
    "from __future__ import print_function\n",
    "import os\n",
    "import sys"
   ]
  },
  {
   "cell_type": "code",
   "execution_count": 1,
   "metadata": {
    "collapsed": false
   },
   "outputs": [
    {
     "data": {
      "text/plain": [
       "8"
      ]
     },
     "execution_count": 1,
     "metadata": {},
     "output_type": "execute_result"
    }
   ],
   "source": [
    "4 + 4"
   ]
  },
  {
   "cell_type": "code",
   "execution_count": 112,
   "metadata": {
    "collapsed": false
   },
   "outputs": [],
   "source": [
    "# Someday this has to go in a config or kernel\n",
    "\n",
    "#spark_home = '/opt/spark/latest'\n",
    "\n",
    "#os.environ['SPARK_HOME'] = spark_home\n",
    "#sys.path.insert(0, spark_home + \"/python\")\n",
    "#sys.path.insert(0, os.path.join(spark_home, 'python/lib/py4j-0.10.1-src.zip'))\n",
    "\n",
    "#from pyspark.context import SparkContext\n",
    "#from pyspark.context import SparkConf\n",
    "#from pyspark.sql import SQLContext"
   ]
  },
  {
   "cell_type": "code",
   "execution_count": 113,
   "metadata": {
    "collapsed": true
   },
   "outputs": [],
   "source": [
    "#sc = SparkContext()\n",
    "#sqlContext = SQLContext(sc)"
   ]
  },
  {
   "cell_type": "code",
   "execution_count": 1,
   "metadata": {
    "collapsed": false
   },
   "outputs": [
    {
     "ename": "NameError",
     "evalue": "name 'sqlContext' is not defined",
     "output_type": "error",
     "traceback": [
      "\u001b[0;31m---------------------------------------------------------------------------\u001b[0m",
      "\u001b[0;31mNameError\u001b[0m                                 Traceback (most recent call last)",
      "\u001b[0;32m<ipython-input-1-3c965626df9f>\u001b[0m in \u001b[0;36m<module>\u001b[0;34m()\u001b[0m\n\u001b[0;32m----> 1\u001b[0;31m \u001b[0mdf\u001b[0m \u001b[0;34m=\u001b[0m \u001b[0msqlContext\u001b[0m\u001b[0;34m.\u001b[0m\u001b[0mread\u001b[0m\u001b[0;34m.\u001b[0m\u001b[0mload\u001b[0m\u001b[0;34m(\u001b[0m\u001b[0;34m\"/guoda/data/idigbio-20170607T183747.parquet\"\u001b[0m\u001b[0;34m)\u001b[0m\u001b[0;34m\u001b[0m\u001b[0m\n\u001b[0m",
      "\u001b[0;31mNameError\u001b[0m: name 'sqlContext' is not defined"
     ]
    }
   ],
   "source": [
    "df = sqlContext.read.load(\"/guoda/data/idigbio-20170607T183747.parquet\")"
   ]
  },
  {
   "cell_type": "code",
   "execution_count": 115,
   "metadata": {
    "collapsed": false
   },
   "outputs": [
    {
     "name": "stdout",
     "output_type": "stream",
     "text": [
      "104661524\n"
     ]
    },
    {
     "data": {
      "text/plain": [
       "[Row(barcodevalue=None, basisofrecord='preservedspecimen', bed=None, canonicalname='bombus ashtoni', catalognumber='cuic_ent 00035073', class='insecta', collectioncode=None, collectionid=None, collectionname=None, collector='b. taraday', commonname=None, continent='north america', coordinateuncertainty=None, country='united states', countrycode='usa', county='tompkins', data=Row(coreid=None, dc:rights=None, dcterms:accessRights=None, dcterms:bibliographicCitation=None, dcterms:language=None, dcterms:license=None, dcterms:modified='2014-03-18', dcterms:references='Digital Bee Collections Network, 2014 (and updates). Version: 2016-03-08. National Science Foundation grant DBI 0956388', dcterms:rights=None, dcterms:rightsHolder=None, dcterms:source=None, dcterms:type=None, dwc:VerbatimEventDate=None, dwc:acceptedNameUsage=None, dwc:accessRights=None, dwc:associatedMedia=None, dwc:associatedOccurrences=None, dwc:associatedReferences=None, dwc:associatedSequences=None, dwc:associatedTaxa=None, dwc:basisOfRecord='PreservedSpecimen', dwc:bed=None, dwc:behavior=None, dwc:catalogNumber='CUIC_ENT 00035073', dwc:class=None, dwc:collectionCode=None, dwc:collectionID=None, dwc:continent=None, dwc:coordinatePrecision=None, dwc:coordinateUncertaintyInMeters=None, dwc:country='UNITED STATES', dwc:countryCode=None, dwc:county='Tompkins', dwc:dataGeneralizations=None, dwc:datasetID='urn:uuid:13674fa4-8611-11e4-8259-0026552be7ea', dwc:datasetName='Collaborative databasing of North American bee collections within a global informatics network project', dwc:dateIdentified=None, dwc:day=None, dwc:decimalLatitude='42.44923', dwc:decimalLongitude='-76.48226', dwc:disposition=None, dwc:dynamicProperties=None, dwc:earliestAgeOrLowestStage=None, dwc:earliestEonOrLowestEonothem=None, dwc:earliestEpochOrLowestSeries=None, dwc:earliestEraOrLowestErathem=None, dwc:earliestPeriodOrLowestSystem=None, dwc:endDayOfYear=None, dwc:establishmentMeans=None, dwc:eventDate='1980-06-20', dwc:eventID=None, dwc:eventRemarks=None, dwc:eventTime=None, dwc:family='Apidae', dwc:fieldNotes=None, dwc:fieldNumber=None, dwc:footprintSRS=None, dwc:footprintSpatialFit=None, dwc:footprintWKT=None, dwc:formation=None, dwc:genus='Bombus', dwc:geodeticDatum=None, dwc:geologicalContextID=None, dwc:georeferenceProtocol=None, dwc:georeferenceRemarks=None, dwc:georeferenceSources=None, dwc:georeferenceVerificationStatus=None, dwc:georeferencedBy=None, dwc:georeferencedDate=None, dwc:group=None, dwc:habitat=None, dwc:higherClassification='Animalia;Arthropoda;Apidae;Apinae;Bombini', dwc:higherGeography=None, dwc:higherGeographyID=None, dwc:highestBiostratigraphicZone=None, dwc:identificationID=None, dwc:identificationQualifier=None, dwc:identificationReferences=None, dwc:identificationRemarks=None, dwc:identificationVerificationStatus=None, dwc:identifiedBy='G. C. Eickwort', dwc:individualCount='1', dwc:informationWithheld=None, dwc:infraspecificEpithet=None, dwc:institutionCode='CUIC', dwc:institutionID=None, dwc:island=None, dwc:islandGroup=None, dwc:kingdom=None, dwc:latestAgeOrHighestStage=None, dwc:latestEonOrHighestEonothem=None, dwc:latestEpochOrHighestSeries=None, dwc:latestEraOrHighestErathem=None, dwc:latestPeriodOrHighestSystem=None, dwc:lifeStage='Adult', dwc:lithostratigraphicTerms=None, dwc:locality='Ithaca, Cornell Campus', dwc:locationAccordingTo='Label', dwc:locationID=None, dwc:locationRemarks=None, dwc:lowestBiostratigraphicZone=None, dwc:materialSampleID=None, dwc:maximumDepthInMeters=None, dwc:maximumElevationInMeters=None, dwc:member=None, dwc:minimumDepthInMeters=None, dwc:minimumElevationInMeters=None, dwc:month=None, dwc:municipality=None, dwc:nameAccordingTo=None, dwc:nameAccordingToID=None, dwc:namePublishedIn=None, dwc:namePublishedInID=None, dwc:namePublishedInYear=None, dwc:nomenclaturalCode=None, dwc:nomenclaturalStatus=None, dwc:occurrenceDetails=None, dwc:occurrenceID='urn:uuid:9372ac72-aeab-11e3-8259-0026552be7ea', dwc:occurrenceRemarks=None, dwc:occurrenceStatus=None, dwc:order=None, dwc:organismID=None, dwc:organismName=None, dwc:organismQuantity=None, dwc:organismQuantityType=None, dwc:originalNameUsage=None, dwc:otherCatalogNumbers=None, dwc:ownerInstitutionCode='Cornell University Insect Collection', dwc:parentNameUsage=None, dwc:phylum=None, dwc:pointRadiusSpatialFit=None, dwc:preparations=None, dwc:previousIdentifications=None, dwc:recordNumber=None, dwc:recordedBy='B. Taraday', dwc:reproductiveCondition=None, dwc:rights=None, dwc:rightsHolder=None, dwc:samplingEffort=None, dwc:samplingProtocol='Netting', dwc:scientificName='Bombus ashtoni', dwc:scientificNameAuthorship='(Cresson,1864)', dwc:scientificNameID=None, dwc:sex='Female', dwc:specificEpithet='ashtoni', dwc:startDayOfYear=None, dwc:stateProvince='New York', dwc:subgenus=None, dwc:taxonID=None, dwc:taxonRank=None, dwc:taxonRemarks=None, dwc:taxonomicStatus=None, dwc:typeStatus='None', dwc:verbatimCoordinateSystem=None, dwc:verbatimCoordinates=None, dwc:verbatimDepth=None, dwc:verbatimElevation='265 m', dwc:verbatimEventDate=None, dwc:verbatimLatitude=None, dwc:verbatimLocality=None, dwc:verbatimLongitude=None, dwc:verbatimSRS=None, dwc:verbatimTaxonRank=None, dwc:vernacularName=None, dwc:waterBody=None, dwc:year='1980', fcc:datePicked=None, fcc:pickedBy=None, id='urn:uuid:9372ac72-aeab-11e3-8259-0026552be7ea_RID', idigbio:preservative=None, idigbio:recordId=None, idigbio:subfamily=None, idigbio:substrate=None, idigbio:superfamily=None, symbiota:recordEnteredBy=None, symbiota:verbatimScientificName=None), datecollected=datetime.datetime(1980, 6, 19, 20, 0), datemodified=datetime.datetime(2016, 3, 9, 4, 17, 27, 393000), dqs=0.1617647111415863, earliestageorloweststage=None, earliesteonorlowesteonothem=None, earliestepochorlowestseries=None, earliesteraorlowesterathem=None, earliestperiodorlowestsystem=None, etag='b3985d7148b9f1a5243dc28ade2187c8a6df9c76', eventdate='1980-06-20', family='apidae', fieldnumber=None, formation=None, genus='bombus', geologicalcontextid=None, geopoint=Row(lat=42.44923, lon=-76.48226), group=None, hasImage=False, hasMedia=False, highertaxon='animalia;arthropoda;apidae;apinae;bombini', highestbiostratigraphiczone=None, individualcount=1.0, infraspecificepithet=None, institutioncode='cuic', institutionid=None, institutionname=None, kingdom='animalia', latestageorhigheststage=None, latesteonorhighesteonothem=None, latestepochorhighestseries=None, latesteraorhighesterathem=None, latestperiodorhighestsystem=None, lithostratigraphicterms=None, locality='ithaca, cornell campus', lowestbiostratigraphiczone=None, maxdepth=None, maxelevation=None, member=None, mindepth=None, minelevation=None, municipality=None, occurrenceid='urn:uuid:9372ac72-aeab-11e3-8259-0026552be7ea', order='hymenoptera', phylum='arthropoda', recordnumber=None, recordset='8919571f-205a-4aed-b9f2-96ccd0108e4c', scientificname='bombus ashtoni', specificepithet='ashtoni', startdayofyear=172, stateprovince='new york', taxonid='1340457', taxonomicstatus='accepted', taxonrank='species', typestatus='none', uuid='43c20745-590c-45f5-9e5c-ddc5153aa573', verbatimeventdate=None, verbatimlocality=None, version=None, waterbody=None),\n",
       " Row(barcodevalue=None, basisofrecord='preservedspecimen', bed=None, canonicalname='megachile sidalceae', catalognumber='amnh_bee 00140255', class='insecta', collectioncode=None, collectionid=None, collectionname=None, collector='j. s. ascher', commonname=None, continent='north america', coordinateuncertainty=10.0, country='united states', countrycode='usa', county='cochise', data=Row(coreid=None, dc:rights=None, dcterms:accessRights=None, dcterms:bibliographicCitation=None, dcterms:language=None, dcterms:license=None, dcterms:modified='2011-03-15', dcterms:references='Digital Bee Collections Network, 2014 (and updates). Version: 2016-03-08. National Science Foundation grant DBI 0956388', dcterms:rights=None, dcterms:rightsHolder=None, dcterms:source=None, dcterms:type=None, dwc:VerbatimEventDate=None, dwc:acceptedNameUsage=None, dwc:accessRights=None, dwc:associatedMedia=None, dwc:associatedOccurrences=None, dwc:associatedReferences=None, dwc:associatedSequences=None, dwc:associatedTaxa='associated with:Psorothamnus scoparius', dwc:basisOfRecord='PreservedSpecimen', dwc:bed=None, dwc:behavior=None, dwc:catalogNumber='AMNH_BEE 00140255', dwc:class=None, dwc:collectionCode=None, dwc:collectionID=None, dwc:continent=None, dwc:coordinatePrecision=None, dwc:coordinateUncertaintyInMeters='<10m', dwc:country='UNITED STATES', dwc:countryCode=None, dwc:county='Cochise', dwc:dataGeneralizations=None, dwc:datasetID='urn:uuid:13674fa4-8611-11e4-8259-0026552be7ea', dwc:datasetName='Collaborative databasing of North American bee collections within a global informatics network project', dwc:dateIdentified='2010', dwc:day=None, dwc:decimalLatitude='32.23915', dwc:decimalLongitude='-109.77285', dwc:disposition=None, dwc:dynamicProperties=None, dwc:earliestAgeOrLowestStage=None, dwc:earliestEonOrLowestEonothem=None, dwc:earliestEpochOrLowestSeries=None, dwc:earliestEraOrLowestErathem=None, dwc:earliestPeriodOrLowestSystem=None, dwc:endDayOfYear=None, dwc:establishmentMeans=None, dwc:eventDate='2009-09-01', dwc:eventID=None, dwc:eventRemarks=None, dwc:eventTime=None, dwc:family='Megachilidae', dwc:fieldNotes=None, dwc:fieldNumber=None, dwc:footprintSRS=None, dwc:footprintSpatialFit=None, dwc:footprintWKT=None, dwc:formation=None, dwc:genus='Megachile', dwc:geodeticDatum=None, dwc:geologicalContextID=None, dwc:georeferenceProtocol=None, dwc:georeferenceRemarks=None, dwc:georeferenceSources=None, dwc:georeferenceVerificationStatus=None, dwc:georeferencedBy=None, dwc:georeferencedDate=None, dwc:group=None, dwc:habitat=None, dwc:higherClassification='Animalia;Arthropoda;Megachilidae;Megachilinae;Megachilini', dwc:higherGeography=None, dwc:higherGeographyID=None, dwc:highestBiostratigraphicZone=None, dwc:identificationID=None, dwc:identificationQualifier=None, dwc:identificationReferences=None, dwc:identificationRemarks=None, dwc:identificationVerificationStatus=None, dwc:identifiedBy='J. S. Ascher', dwc:individualCount='1', dwc:informationWithheld=None, dwc:infraspecificEpithet=None, dwc:institutionCode='AMNH', dwc:institutionID=None, dwc:island=None, dwc:islandGroup=None, dwc:kingdom=None, dwc:latestAgeOrHighestStage=None, dwc:latestEonOrHighestEonothem=None, dwc:latestEpochOrHighestSeries=None, dwc:latestEraOrHighestErathem=None, dwc:latestPeriodOrHighestSystem=None, dwc:lifeStage='Adult', dwc:lithostratigraphicTerms=None, dwc:locality='4 mi E of Willcox', dwc:locationAccordingTo='Label', dwc:locationID=None, dwc:locationRemarks=None, dwc:lowestBiostratigraphicZone=None, dwc:materialSampleID=None, dwc:maximumDepthInMeters=None, dwc:maximumElevationInMeters=None, dwc:member=None, dwc:minimumDepthInMeters=None, dwc:minimumElevationInMeters=None, dwc:month=None, dwc:municipality=None, dwc:nameAccordingTo=None, dwc:nameAccordingToID=None, dwc:namePublishedIn=None, dwc:namePublishedInID=None, dwc:namePublishedInYear=None, dwc:nomenclaturalCode=None, dwc:nomenclaturalStatus=None, dwc:occurrenceDetails=None, dwc:occurrenceID='urn:uuid:854d29a6-d8e1-11e2-99a2-0026552be7ea', dwc:occurrenceRemarks=None, dwc:occurrenceStatus=None, dwc:order=None, dwc:organismID=None, dwc:organismName=None, dwc:organismQuantity=None, dwc:organismQuantityType=None, dwc:originalNameUsage=None, dwc:otherCatalogNumbers=None, dwc:ownerInstitutionCode='American Museum of Natural History', dwc:parentNameUsage=None, dwc:phylum=None, dwc:pointRadiusSpatialFit=None, dwc:preparations=None, dwc:previousIdentifications=None, dwc:recordNumber=None, dwc:recordedBy='J. S. Ascher', dwc:reproductiveCondition=None, dwc:rights=None, dwc:rightsHolder=None, dwc:samplingEffort=None, dwc:samplingProtocol='Netting', dwc:scientificName='Megachile sidalceae', dwc:scientificNameAuthorship='Cockerell,1897', dwc:scientificNameID=None, dwc:sex='Female', dwc:specificEpithet='sidalceae', dwc:startDayOfYear=None, dwc:stateProvince='Arizona', dwc:subgenus=None, dwc:taxonID=None, dwc:taxonRank=None, dwc:taxonRemarks=None, dwc:taxonomicStatus=None, dwc:typeStatus='None', dwc:verbatimCoordinateSystem=None, dwc:verbatimCoordinates=None, dwc:verbatimDepth=None, dwc:verbatimElevation='1273 m', dwc:verbatimEventDate=None, dwc:verbatimLatitude=None, dwc:verbatimLocality=None, dwc:verbatimLongitude=None, dwc:verbatimSRS=None, dwc:verbatimTaxonRank=None, dwc:vernacularName=None, dwc:waterBody=None, dwc:year='2009', fcc:datePicked=None, fcc:pickedBy=None, id='urn:uuid:854d29a6-d8e1-11e2-99a2-0026552be7ea_RID', idigbio:preservative=None, idigbio:recordId=None, idigbio:subfamily=None, idigbio:substrate=None, idigbio:superfamily=None, symbiota:recordEnteredBy=None, symbiota:verbatimScientificName=None), datecollected=datetime.datetime(2009, 8, 31, 20, 0), datemodified=datetime.datetime(2016, 3, 9, 4, 17, 27, 393000), dqs=0.19117647409439087, earliestageorloweststage=None, earliesteonorlowesteonothem=None, earliestepochorlowestseries=None, earliesteraorlowesterathem=None, earliestperiodorlowestsystem=None, etag='8a3f37c409d1f01463d4eafdb7c64c60a0040c4c', eventdate='2009-09-01', family='megachilidae', fieldnumber=None, formation=None, genus='megachile', geologicalcontextid=None, geopoint=Row(lat=32.23915, lon=-109.77285), group=None, hasImage=False, hasMedia=False, highertaxon='animalia;arthropoda;megachilidae;megachilinae;megachilini', highestbiostratigraphiczone=None, individualcount=1.0, infraspecificepithet=None, institutioncode='amnh', institutionid=None, institutionname=None, kingdom='animalia', latestageorhigheststage=None, latesteonorhighesteonothem=None, latestepochorhighestseries=None, latesteraorhighesterathem=None, latestperiodorhighestsystem=None, lithostratigraphicterms=None, locality='4 mi e of willcox', lowestbiostratigraphiczone=None, maxdepth=None, maxelevation=None, member=None, mindepth=None, minelevation=None, municipality=None, occurrenceid='urn:uuid:854d29a6-d8e1-11e2-99a2-0026552be7ea', order='hymenoptera', phylum='arthropoda', recordnumber=None, recordset='8919571f-205a-4aed-b9f2-96ccd0108e4c', scientificname='megachile sidalceae', specificepithet='sidalceae', startdayofyear=244, stateprovince='arizona', taxonid='1336076', taxonomicstatus='accepted', taxonrank='species', typestatus='none', uuid='d1f8c8b5-1456-45b8-ba65-b30b731f90a4', verbatimeventdate=None, verbatimlocality=None, version=None, waterbody=None)]"
      ]
     },
     "execution_count": 115,
     "metadata": {},
     "output_type": "execute_result"
    }
   ],
   "source": [
    "print(df.count())\n",
    "df.head(2)"
   ]
  },
  {
   "cell_type": "code",
   "execution_count": 116,
   "metadata": {
    "collapsed": false
   },
   "outputs": [
    {
     "name": "stdout",
     "output_type": "stream",
     "text": [
      "root\n",
      " |-- barcodevalue: string (nullable = true)\n",
      " |-- basisofrecord: string (nullable = true)\n",
      " |-- bed: string (nullable = true)\n",
      " |-- canonicalname: string (nullable = true)\n",
      " |-- catalognumber: string (nullable = true)\n",
      " |-- class: string (nullable = true)\n",
      " |-- collectioncode: string (nullable = true)\n",
      " |-- collectionid: string (nullable = true)\n",
      " |-- collectionname: string (nullable = true)\n",
      " |-- collector: string (nullable = true)\n",
      " |-- commonname: string (nullable = true)\n",
      " |-- continent: string (nullable = true)\n",
      " |-- coordinateuncertainty: float (nullable = true)\n",
      " |-- country: string (nullable = true)\n",
      " |-- countrycode: string (nullable = true)\n",
      " |-- county: string (nullable = true)\n",
      " |-- data: struct (nullable = true)\n",
      " |    |-- coreid: string (nullable = true)\n",
      " |    |-- dc:rights: string (nullable = true)\n",
      " |    |-- dcterms:accessRights: string (nullable = true)\n",
      " |    |-- dcterms:bibliographicCitation: string (nullable = true)\n",
      " |    |-- dcterms:language: string (nullable = true)\n",
      " |    |-- dcterms:license: string (nullable = true)\n",
      " |    |-- dcterms:modified: string (nullable = true)\n",
      " |    |-- dcterms:references: string (nullable = true)\n",
      " |    |-- dcterms:rights: string (nullable = true)\n",
      " |    |-- dcterms:rightsHolder: string (nullable = true)\n",
      " |    |-- dcterms:source: string (nullable = true)\n",
      " |    |-- dcterms:type: string (nullable = true)\n",
      " |    |-- dwc:VerbatimEventDate: string (nullable = true)\n",
      " |    |-- dwc:acceptedNameUsage: string (nullable = true)\n",
      " |    |-- dwc:accessRights: string (nullable = true)\n",
      " |    |-- dwc:associatedMedia: string (nullable = true)\n",
      " |    |-- dwc:associatedOccurrences: string (nullable = true)\n",
      " |    |-- dwc:associatedReferences: string (nullable = true)\n",
      " |    |-- dwc:associatedSequences: string (nullable = true)\n",
      " |    |-- dwc:associatedTaxa: string (nullable = true)\n",
      " |    |-- dwc:basisOfRecord: string (nullable = true)\n",
      " |    |-- dwc:bed: string (nullable = true)\n",
      " |    |-- dwc:behavior: string (nullable = true)\n",
      " |    |-- dwc:catalogNumber: string (nullable = true)\n",
      " |    |-- dwc:class: string (nullable = true)\n",
      " |    |-- dwc:collectionCode: string (nullable = true)\n",
      " |    |-- dwc:collectionID: string (nullable = true)\n",
      " |    |-- dwc:continent: string (nullable = true)\n",
      " |    |-- dwc:coordinatePrecision: string (nullable = true)\n",
      " |    |-- dwc:coordinateUncertaintyInMeters: string (nullable = true)\n",
      " |    |-- dwc:country: string (nullable = true)\n",
      " |    |-- dwc:countryCode: string (nullable = true)\n",
      " |    |-- dwc:county: string (nullable = true)\n",
      " |    |-- dwc:dataGeneralizations: string (nullable = true)\n",
      " |    |-- dwc:datasetID: string (nullable = true)\n",
      " |    |-- dwc:datasetName: string (nullable = true)\n",
      " |    |-- dwc:dateIdentified: string (nullable = true)\n",
      " |    |-- dwc:day: string (nullable = true)\n",
      " |    |-- dwc:decimalLatitude: string (nullable = true)\n",
      " |    |-- dwc:decimalLongitude: string (nullable = true)\n",
      " |    |-- dwc:disposition: string (nullable = true)\n",
      " |    |-- dwc:dynamicProperties: string (nullable = true)\n",
      " |    |-- dwc:earliestAgeOrLowestStage: string (nullable = true)\n",
      " |    |-- dwc:earliestEonOrLowestEonothem: string (nullable = true)\n",
      " |    |-- dwc:earliestEpochOrLowestSeries: string (nullable = true)\n",
      " |    |-- dwc:earliestEraOrLowestErathem: string (nullable = true)\n",
      " |    |-- dwc:earliestPeriodOrLowestSystem: string (nullable = true)\n",
      " |    |-- dwc:endDayOfYear: string (nullable = true)\n",
      " |    |-- dwc:establishmentMeans: string (nullable = true)\n",
      " |    |-- dwc:eventDate: string (nullable = true)\n",
      " |    |-- dwc:eventID: string (nullable = true)\n",
      " |    |-- dwc:eventRemarks: string (nullable = true)\n",
      " |    |-- dwc:eventTime: string (nullable = true)\n",
      " |    |-- dwc:family: string (nullable = true)\n",
      " |    |-- dwc:fieldNotes: string (nullable = true)\n",
      " |    |-- dwc:fieldNumber: string (nullable = true)\n",
      " |    |-- dwc:footprintSRS: string (nullable = true)\n",
      " |    |-- dwc:footprintSpatialFit: string (nullable = true)\n",
      " |    |-- dwc:footprintWKT: string (nullable = true)\n",
      " |    |-- dwc:formation: string (nullable = true)\n",
      " |    |-- dwc:genus: string (nullable = true)\n",
      " |    |-- dwc:geodeticDatum: string (nullable = true)\n",
      " |    |-- dwc:geologicalContextID: string (nullable = true)\n",
      " |    |-- dwc:georeferenceProtocol: string (nullable = true)\n",
      " |    |-- dwc:georeferenceRemarks: string (nullable = true)\n",
      " |    |-- dwc:georeferenceSources: string (nullable = true)\n",
      " |    |-- dwc:georeferenceVerificationStatus: string (nullable = true)\n",
      " |    |-- dwc:georeferencedBy: string (nullable = true)\n",
      " |    |-- dwc:georeferencedDate: string (nullable = true)\n",
      " |    |-- dwc:group: string (nullable = true)\n",
      " |    |-- dwc:habitat: string (nullable = true)\n",
      " |    |-- dwc:higherClassification: string (nullable = true)\n",
      " |    |-- dwc:higherGeography: string (nullable = true)\n",
      " |    |-- dwc:higherGeographyID: string (nullable = true)\n",
      " |    |-- dwc:highestBiostratigraphicZone: string (nullable = true)\n",
      " |    |-- dwc:identificationID: string (nullable = true)\n",
      " |    |-- dwc:identificationQualifier: string (nullable = true)\n",
      " |    |-- dwc:identificationReferences: string (nullable = true)\n",
      " |    |-- dwc:identificationRemarks: string (nullable = true)\n",
      " |    |-- dwc:identificationVerificationStatus: string (nullable = true)\n",
      " |    |-- dwc:identifiedBy: string (nullable = true)\n",
      " |    |-- dwc:individualCount: string (nullable = true)\n",
      " |    |-- dwc:informationWithheld: string (nullable = true)\n",
      " |    |-- dwc:infraspecificEpithet: string (nullable = true)\n",
      " |    |-- dwc:institutionCode: string (nullable = true)\n",
      " |    |-- dwc:institutionID: string (nullable = true)\n",
      " |    |-- dwc:island: string (nullable = true)\n",
      " |    |-- dwc:islandGroup: string (nullable = true)\n",
      " |    |-- dwc:kingdom: string (nullable = true)\n",
      " |    |-- dwc:latestAgeOrHighestStage: string (nullable = true)\n",
      " |    |-- dwc:latestEonOrHighestEonothem: string (nullable = true)\n",
      " |    |-- dwc:latestEpochOrHighestSeries: string (nullable = true)\n",
      " |    |-- dwc:latestEraOrHighestErathem: string (nullable = true)\n",
      " |    |-- dwc:latestPeriodOrHighestSystem: string (nullable = true)\n",
      " |    |-- dwc:lifeStage: string (nullable = true)\n",
      " |    |-- dwc:lithostratigraphicTerms: string (nullable = true)\n",
      " |    |-- dwc:locality: string (nullable = true)\n",
      " |    |-- dwc:locationAccordingTo: string (nullable = true)\n",
      " |    |-- dwc:locationID: string (nullable = true)\n",
      " |    |-- dwc:locationRemarks: string (nullable = true)\n",
      " |    |-- dwc:lowestBiostratigraphicZone: string (nullable = true)\n",
      " |    |-- dwc:materialSampleID: string (nullable = true)\n",
      " |    |-- dwc:maximumDepthInMeters: string (nullable = true)\n",
      " |    |-- dwc:maximumElevationInMeters: string (nullable = true)\n",
      " |    |-- dwc:member: string (nullable = true)\n",
      " |    |-- dwc:minimumDepthInMeters: string (nullable = true)\n",
      " |    |-- dwc:minimumElevationInMeters: string (nullable = true)\n",
      " |    |-- dwc:month: string (nullable = true)\n",
      " |    |-- dwc:municipality: string (nullable = true)\n",
      " |    |-- dwc:nameAccordingTo: string (nullable = true)\n",
      " |    |-- dwc:nameAccordingToID: string (nullable = true)\n",
      " |    |-- dwc:namePublishedIn: string (nullable = true)\n",
      " |    |-- dwc:namePublishedInID: string (nullable = true)\n",
      " |    |-- dwc:namePublishedInYear: string (nullable = true)\n",
      " |    |-- dwc:nomenclaturalCode: string (nullable = true)\n",
      " |    |-- dwc:nomenclaturalStatus: string (nullable = true)\n",
      " |    |-- dwc:occurrenceDetails: string (nullable = true)\n",
      " |    |-- dwc:occurrenceID: string (nullable = true)\n",
      " |    |-- dwc:occurrenceRemarks: string (nullable = true)\n",
      " |    |-- dwc:occurrenceStatus: string (nullable = true)\n",
      " |    |-- dwc:order: string (nullable = true)\n",
      " |    |-- dwc:organismID: string (nullable = true)\n",
      " |    |-- dwc:organismName: string (nullable = true)\n",
      " |    |-- dwc:organismQuantity: string (nullable = true)\n",
      " |    |-- dwc:organismQuantityType: string (nullable = true)\n",
      " |    |-- dwc:originalNameUsage: string (nullable = true)\n",
      " |    |-- dwc:otherCatalogNumbers: string (nullable = true)\n",
      " |    |-- dwc:ownerInstitutionCode: string (nullable = true)\n",
      " |    |-- dwc:parentNameUsage: string (nullable = true)\n",
      " |    |-- dwc:phylum: string (nullable = true)\n",
      " |    |-- dwc:pointRadiusSpatialFit: string (nullable = true)\n",
      " |    |-- dwc:preparations: string (nullable = true)\n",
      " |    |-- dwc:previousIdentifications: string (nullable = true)\n",
      " |    |-- dwc:recordNumber: string (nullable = true)\n",
      " |    |-- dwc:recordedBy: string (nullable = true)\n",
      " |    |-- dwc:reproductiveCondition: string (nullable = true)\n",
      " |    |-- dwc:rights: string (nullable = true)\n",
      " |    |-- dwc:rightsHolder: string (nullable = true)\n",
      " |    |-- dwc:samplingEffort: string (nullable = true)\n",
      " |    |-- dwc:samplingProtocol: string (nullable = true)\n",
      " |    |-- dwc:scientificName: string (nullable = true)\n",
      " |    |-- dwc:scientificNameAuthorship: string (nullable = true)\n",
      " |    |-- dwc:scientificNameID: string (nullable = true)\n",
      " |    |-- dwc:sex: string (nullable = true)\n",
      " |    |-- dwc:specificEpithet: string (nullable = true)\n",
      " |    |-- dwc:startDayOfYear: string (nullable = true)\n",
      " |    |-- dwc:stateProvince: string (nullable = true)\n",
      " |    |-- dwc:subgenus: string (nullable = true)\n",
      " |    |-- dwc:taxonID: string (nullable = true)\n",
      " |    |-- dwc:taxonRank: string (nullable = true)\n",
      " |    |-- dwc:taxonRemarks: string (nullable = true)\n",
      " |    |-- dwc:taxonomicStatus: string (nullable = true)\n",
      " |    |-- dwc:typeStatus: string (nullable = true)\n",
      " |    |-- dwc:verbatimCoordinateSystem: string (nullable = true)\n",
      " |    |-- dwc:verbatimCoordinates: string (nullable = true)\n",
      " |    |-- dwc:verbatimDepth: string (nullable = true)\n",
      " |    |-- dwc:verbatimElevation: string (nullable = true)\n",
      " |    |-- dwc:verbatimEventDate: string (nullable = true)\n",
      " |    |-- dwc:verbatimLatitude: string (nullable = true)\n",
      " |    |-- dwc:verbatimLocality: string (nullable = true)\n",
      " |    |-- dwc:verbatimLongitude: string (nullable = true)\n",
      " |    |-- dwc:verbatimSRS: string (nullable = true)\n",
      " |    |-- dwc:verbatimTaxonRank: string (nullable = true)\n",
      " |    |-- dwc:vernacularName: string (nullable = true)\n",
      " |    |-- dwc:waterBody: string (nullable = true)\n",
      " |    |-- dwc:year: string (nullable = true)\n",
      " |    |-- fcc:datePicked: string (nullable = true)\n",
      " |    |-- fcc:pickedBy: string (nullable = true)\n",
      " |    |-- id: string (nullable = true)\n",
      " |    |-- idigbio:preservative: string (nullable = true)\n",
      " |    |-- idigbio:recordId: string (nullable = true)\n",
      " |    |-- idigbio:subfamily: string (nullable = true)\n",
      " |    |-- idigbio:substrate: string (nullable = true)\n",
      " |    |-- idigbio:superfamily: string (nullable = true)\n",
      " |    |-- symbiota:recordEnteredBy: string (nullable = true)\n",
      " |    |-- symbiota:verbatimScientificName: string (nullable = true)\n",
      " |-- datecollected: timestamp (nullable = true)\n",
      " |-- datemodified: timestamp (nullable = true)\n",
      " |-- dqs: float (nullable = true)\n",
      " |-- earliestageorloweststage: string (nullable = true)\n",
      " |-- earliesteonorlowesteonothem: string (nullable = true)\n",
      " |-- earliestepochorlowestseries: string (nullable = true)\n",
      " |-- earliesteraorlowesterathem: string (nullable = true)\n",
      " |-- earliestperiodorlowestsystem: string (nullable = true)\n",
      " |-- etag: string (nullable = true)\n",
      " |-- eventdate: string (nullable = true)\n",
      " |-- family: string (nullable = true)\n",
      " |-- fieldnumber: string (nullable = true)\n",
      " |-- formation: string (nullable = true)\n",
      " |-- genus: string (nullable = true)\n",
      " |-- geologicalcontextid: string (nullable = true)\n",
      " |-- geopoint: struct (nullable = true)\n",
      " |    |-- lat: double (nullable = true)\n",
      " |    |-- lon: double (nullable = true)\n",
      " |-- group: string (nullable = true)\n",
      " |-- hasImage: boolean (nullable = true)\n",
      " |-- hasMedia: boolean (nullable = true)\n",
      " |-- highertaxon: string (nullable = true)\n",
      " |-- highestbiostratigraphiczone: string (nullable = true)\n",
      " |-- individualcount: float (nullable = true)\n",
      " |-- infraspecificepithet: string (nullable = true)\n",
      " |-- institutioncode: string (nullable = true)\n",
      " |-- institutionid: string (nullable = true)\n",
      " |-- institutionname: string (nullable = true)\n",
      " |-- kingdom: string (nullable = true)\n",
      " |-- latestageorhigheststage: string (nullable = true)\n",
      " |-- latesteonorhighesteonothem: string (nullable = true)\n",
      " |-- latestepochorhighestseries: string (nullable = true)\n",
      " |-- latesteraorhighesterathem: string (nullable = true)\n",
      " |-- latestperiodorhighestsystem: string (nullable = true)\n",
      " |-- lithostratigraphicterms: string (nullable = true)\n",
      " |-- locality: string (nullable = true)\n",
      " |-- lowestbiostratigraphiczone: string (nullable = true)\n",
      " |-- maxdepth: float (nullable = true)\n",
      " |-- maxelevation: float (nullable = true)\n",
      " |-- member: string (nullable = true)\n",
      " |-- mindepth: float (nullable = true)\n",
      " |-- minelevation: float (nullable = true)\n",
      " |-- municipality: string (nullable = true)\n",
      " |-- occurrenceid: string (nullable = true)\n",
      " |-- order: string (nullable = true)\n",
      " |-- phylum: string (nullable = true)\n",
      " |-- recordnumber: string (nullable = true)\n",
      " |-- recordset: string (nullable = true)\n",
      " |-- scientificname: string (nullable = true)\n",
      " |-- specificepithet: string (nullable = true)\n",
      " |-- startdayofyear: integer (nullable = true)\n",
      " |-- stateprovince: string (nullable = true)\n",
      " |-- taxonid: string (nullable = true)\n",
      " |-- taxonomicstatus: string (nullable = true)\n",
      " |-- taxonrank: string (nullable = true)\n",
      " |-- typestatus: string (nullable = true)\n",
      " |-- uuid: string (nullable = true)\n",
      " |-- verbatimeventdate: string (nullable = true)\n",
      " |-- verbatimlocality: string (nullable = true)\n",
      " |-- version: integer (nullable = true)\n",
      " |-- waterbody: string (nullable = true)\n",
      "\n"
     ]
    }
   ],
   "source": [
    "df.printSchema()"
   ]
  },
  {
   "cell_type": "code",
   "execution_count": 117,
   "metadata": {
    "collapsed": false
   },
   "outputs": [],
   "source": [
    "from pyspark.sql.types import *\n",
    "def mk_field_set_from_df(df_schema):\n",
    "    \"\"\"Create a set of fieldname::type strings from a df schema\"\"\"\n",
    "    field_set = set()\n",
    "    prefix = \"\"\n",
    "    for i in df_schema:\n",
    "        #print(i)\n",
    "        t = type(i.dataType)\n",
    "        if t is not StringType and \\\n",
    "           t is not FloatType and \\\n",
    "           t is not IntegerType and \\\n",
    "           t is not TimestampType and \\\n",
    "           t is not BooleanType:\n",
    "            #print(i.dataType)\n",
    "            prefix = i.name\n",
    "            \n",
    "            # This only accommodates one level of nesting which is\n",
    "            # consistant with our parquet-building technique. The\n",
    "            # string manipulation on type makes it consistant with\n",
    "            # the JSON returned by the API.\n",
    "            for j in i.dataType:\n",
    "                field_set.add((\"{0}.{1}::{2}\".format(prefix, j.name, \n",
    "                                            str(j.dataType)[:-4].lower())))\n",
    "\n",
    "        else:\n",
    "            field_set.add((\"{0}::{1}\".format(i.name, \n",
    "                                            str(i.dataType)[:-4].lower())))\n",
    "    return field_set\n",
    "df_field_set = mk_field_set_from_df(df.schema)\n",
    "#print(df_field_set)"
   ]
  },
  {
   "cell_type": "code",
   "execution_count": 118,
   "metadata": {
    "collapsed": false
   },
   "outputs": [],
   "source": [
    "import requests\n",
    "\n",
    "def mk_field_set_from_api():\n",
    "    \"\"\"Create a set of fieldname::type strings from the meta API endpoint\"\"\"\n",
    "    meta_fields_records = (requests                                                                                                 \n",
    "        .get(\"http://search.idigbio.org/v2/meta/fields/records\")                                                 \n",
    "        .json()                                                                                                  \n",
    "    ) \n",
    "    field_set = set()                                                                                                              \n",
    "    for k,v in meta_fields_records.items():\n",
    "        if k == \"data\":                                                                                                             \n",
    "            for kd,vd in v.items():                                                                                                 \n",
    "                if vd.get(\"fieldName\", False):                                                                                      \n",
    "                    field_set.add(\"{0}::{1}\".format(vd[\"fieldName\"],\n",
    "                                                        vd[\"type\"]))\n",
    "        elif v.get(\"fieldName\", False):                                                                                               \n",
    "            field_set.add(\"{0}::{1}\".format(v[\"fieldName\"], v[\"type\"]))\n",
    "        else:\n",
    "            # non-data nested structures, only add top level key\n",
    "            field_set.add(\"{0}::COMPLEX\".format(k))\n",
    "        \n",
    "    return field_set\n",
    "meta_field_set = mk_field_set_from_api()\n",
    "#print(meta_field_set)"
   ]
  },
  {
   "cell_type": "code",
   "execution_count": 119,
   "metadata": {
    "collapsed": false
   },
   "outputs": [
    {
     "name": "stdout",
     "output_type": "stream",
     "text": [
      "In meta endpoint, not df\n",
      "associatedsequences::string\n",
      "commonnames::string\n",
      "datecollected::date\n",
      "datemodified::date\n",
      "flags::string\n",
      "geopoint::geo_point\n",
      "indexData::COMPLEX\n",
      "mediarecords::string\n",
      "recordids::string\n",
      "\n",
      "In df, not meta endpoint\n",
      "datecollected::timestamp\n",
      "datemodified::timestamp\n",
      "geopoint.lat::double\n",
      "geopoint.lon::double\n"
     ]
    }
   ],
   "source": [
    "# The loaded df is a working data frame of course, what fields are in the\n",
    "# meta endpoint that the df does not have? Are those fields currently \n",
    "# excluded in the parquet generation code or has Alex snuck in new\n",
    "# structures lately?\n",
    "#\n",
    "# Note that ES calls things strings if they're lists of strings so even if\n",
    "# something doesn't show up here, watch for scaler -> vector changes in the\n",
    "# way data is represented in a field.\n",
    "print(\"In meta endpoint, not df\")\n",
    "print(\"\\n\".join(sorted(meta_field_set - df_field_set)))\n",
    "print(\"\\nIn df, not meta endpoint\")\n",
    "print(\"\\n\".join(sorted(df_field_set - meta_field_set)))"
   ]
  }
 ],
 "metadata": {
  "kernelspec": {
   "display_name": "3 - PySpark Python3 Medium",
   "language": "python",
   "name": "pyspark3-med"
  },
  "language_info": {
   "codemirror_mode": {
    "name": "ipython",
    "version": 3
   },
   "file_extension": ".py",
   "mimetype": "text/x-python",
   "name": "python",
   "nbconvert_exporter": "python",
   "pygments_lexer": "ipython3",
   "version": "3.5.2"
  }
 },
 "nbformat": 4,
 "nbformat_minor": 1
}
