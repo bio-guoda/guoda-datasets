{
 "cells": [
  {
   "cell_type": "code",
   "execution_count": 6,
   "metadata": {
    "collapsed": true
   },
   "outputs": [],
   "source": [
    "from __future__ import print_function\n",
    "import os\n",
    "import sys"
   ]
  },
  {
   "cell_type": "code",
   "execution_count": 7,
   "metadata": {
    "collapsed": false
   },
   "outputs": [],
   "source": [
    "# Someday this has to go in a config or kernel\n",
    "\n",
    "#spark_home = '/opt/spark/latest'\n",
    "\n",
    "#os.environ['SPARK_HOME'] = spark_home\n",
    "#sys.path.insert(0, spark_home + \"/python\")\n",
    "#sys.path.insert(0, os.path.join(spark_home, 'python/lib/py4j-0.10.1-src.zip'))\n",
    "\n",
    "#from pyspark.context import SparkContext\n",
    "#from pyspark.context import SparkConf\n",
    "#from pyspark.sql import SQLContext"
   ]
  },
  {
   "cell_type": "code",
   "execution_count": 8,
   "metadata": {
    "collapsed": true
   },
   "outputs": [],
   "source": [
    "#sc = SparkContext()\n",
    "#sqlContext = SQLContext(sc)"
   ]
  },
  {
   "cell_type": "code",
   "execution_count": 9,
   "metadata": {
    "collapsed": false
   },
   "outputs": [],
   "source": [
    "df = sqlContext.read.load(\"/guoda/data/idigbio-20161119.parquet\")"
   ]
  },
  {
   "cell_type": "code",
   "execution_count": 10,
   "metadata": {
    "collapsed": false
   },
   "outputs": [
    {
     "name": "stdout",
     "output_type": "stream",
     "text": [
      "158673\n"
     ]
    },
    {
     "data": {
      "text/plain": [
       "[Row(barcodevalue=None, basisofrecord='preservedspecimen', canonicalname='castilleja pallida subsp. septentrionalis (lindl.) h.j. scoggan', catalognumber='82798', class='magnoliopsida', collectioncode='herb', collectionid=None, collector='c. g. pringle', commonname=None, continent='north america', country='united states', countrycode='usa', datecollected=datetime.datetime(1877, 6, 21, 19, 3, 58), family='orobanchaceae', fieldnumber=None, genus='castilleja', group=None, highertaxon='plantae | dicots | orobanchaceae', individualcount=None, infraspecificepithet=None, kingdom='plantae', municipality=None, order='lamiales', phylum='tracheophyta', scientificname='castilleja septentrionalis', specificepithet='septentrionalis', stateprovince='vermont', uuid='0b10740c-3e61-4e45-93ca-29e4b8ca5b15', waterbody=None),\n",
       " Row(barcodevalue=None, basisofrecord='preservedspecimen', canonicalname='huperzia selago (l.) bernh.', catalognumber='204078', class='lycopodiopsida', collectioncode='herb', collectionid=None, collector='r. m. tryon', commonname=None, continent='north america', country='united states', countrycode='usa', datecollected=datetime.datetime(1988, 6, 27, 20, 0), family='lycopodiaceae', fieldnumber=None, genus='huperzia', group=None, highertaxon='plantae | pteridophytes | lycopodiaceae', individualcount=None, infraspecificepithet=None, kingdom='plantae', municipality=None, order='lycopodiales', phylum='tracheophyta', scientificname='huperzia selago', specificepithet='selago', stateprovince='vermont', uuid='b17975c0-dd4c-43c5-97bc-90eb541118c7', waterbody=None),\n",
       " Row(barcodevalue=None, basisofrecord='preservedspecimen', canonicalname='lycopodium obscurum l.', catalognumber='207691', class='lycopodiopsida', collectioncode='herb', collectionid=None, collector='a. f. tryon, r. tryon, d. conant.', commonname=None, continent='north america', country='united states', countrycode='usa', datecollected=datetime.datetime(1992, 11, 22, 19, 0), family='lycopodiaceae', fieldnumber=None, genus='lycopodium', group=None, highertaxon='plantae | pteridophytes | lycopodiaceae', individualcount=None, infraspecificepithet='dendroideum', kingdom='plantae', municipality=None, order='lycopodiales', phylum='tracheophyta', scientificname='lycopodium obscurum var. dendroideum', specificepithet='obscurum', stateprovince='vermont', uuid='9d277af4-5578-45b6-ac0a-3bbcdec89a9c', waterbody=None),\n",
       " Row(barcodevalue=None, basisofrecord='preservedspecimen', canonicalname='russula fragilis fr., 1838', catalognumber='249789', class='agaricomycetes', collectioncode=None, collectionid='0cd2551b-8166-4c05-a0c9-5c8712ce0eb8', collector='r. l. shaffer', commonname=None, continent='north america', country='united states', countrycode='usa', datecollected=datetime.datetime(1961, 8, 27, 20, 0), family='russulaceae', fieldnumber=None, genus='russula', group=None, highertaxon=None, individualcount=None, infraspecificepithet=None, kingdom='fungi', municipality=None, order='russulales', phylum='basidiomycota', scientificname='russula fragilis', specificepithet='fragilis', stateprovince='vermont', uuid='8b090735-00ab-47b7-a4db-5d6d08b1d248', waterbody=None),\n",
       " Row(barcodevalue=None, basisofrecord='preservedspecimen', canonicalname='russula fragrantissima romagn., 1967', catalognumber='249779', class='agaricomycetes', collectioncode=None, collectionid='0cd2551b-8166-4c05-a0c9-5c8712ce0eb8', collector='r. l. shaffer', commonname=None, continent='north america', country='united states', countrycode='usa', datecollected=datetime.datetime(1961, 7, 24, 20, 0), family='russulaceae', fieldnumber=None, genus='russula', group=None, highertaxon=None, individualcount=None, infraspecificepithet=None, kingdom='fungi', municipality=None, order='russulales', phylum='basidiomycota', scientificname='russula fragrantissima', specificepithet='fragrantissima', stateprovince='vermont', uuid='0898d7e9-3539-4a87-8a88-9c422bdb1970', waterbody=None),\n",
       " Row(barcodevalue=None, basisofrecord='preservedspecimen', canonicalname='russulina', catalognumber='256856', class='agaricomycetes', collectioncode=None, collectionid='0cd2551b-8166-4c05-a0c9-5c8712ce0eb8', collector='r. l. shaffer', commonname=None, continent='north america', country='united states', countrycode='usa', datecollected=datetime.datetime(1961, 8, 17, 20, 0), family='russulaceae', fieldnumber=None, genus='russulina', group=None, highertaxon=None, individualcount=None, infraspecificepithet=None, kingdom='fungi', municipality=None, order='russulales', phylum='basidiomycota', scientificname='russula silvicola', specificepithet='silvicola', stateprovince='vermont', uuid='b7703114-509b-4fac-b657-c57213851587', waterbody=None),\n",
       " Row(barcodevalue=None, basisofrecord='preservedspecimen', canonicalname='russulina', catalognumber='259337', class='agaricomycetes', collectioncode=None, collectionid='0cd2551b-8166-4c05-a0c9-5c8712ce0eb8', collector='r. l. shaffer', commonname=None, continent='north america', country='united states', countrycode='usa', datecollected=datetime.datetime(1961, 7, 14, 20, 0), family='russulaceae', fieldnumber=None, genus='russulina', group=None, highertaxon=None, individualcount=None, infraspecificepithet=None, kingdom='fungi', municipality=None, order='russulales', phylum='basidiomycota', scientificname='russula', specificepithet=None, stateprovince='vermont', uuid='fcc69bc7-b64f-41f4-9a73-4a0f7c3ca4d3', waterbody=None),\n",
       " Row(barcodevalue=None, basisofrecord='preservedspecimen', canonicalname='russulina', catalognumber='259376', class='agaricomycetes', collectioncode=None, collectionid='0cd2551b-8166-4c05-a0c9-5c8712ce0eb8', collector='r. l. shaffer', commonname=None, continent='north america', country='united states', countrycode='usa', datecollected=datetime.datetime(1961, 7, 12, 20, 0), family='russulaceae', fieldnumber=None, genus='russulina', group=None, highertaxon=None, individualcount=None, infraspecificepithet=None, kingdom='fungi', municipality=None, order='russulales', phylum='basidiomycota', scientificname='russula', specificepithet=None, stateprovince='vermont', uuid='6ecdd813-4960-4e65-9348-92f25a0b7212', waterbody=None),\n",
       " Row(barcodevalue=None, basisofrecord='preservedspecimen', canonicalname='russulina', catalognumber='259369', class='agaricomycetes', collectioncode=None, collectionid='0cd2551b-8166-4c05-a0c9-5c8712ce0eb8', collector='r. l. shaffer', commonname=None, continent='north america', country='united states', countrycode='usa', datecollected=datetime.datetime(1961, 7, 14, 20, 0), family='russulaceae', fieldnumber=None, genus='russulina', group=None, highertaxon=None, individualcount=None, infraspecificepithet=None, kingdom='fungi', municipality=None, order='russulales', phylum='basidiomycota', scientificname='russula', specificepithet=None, stateprovince='vermont', uuid='a54be7dd-9c31-4efc-8192-49a8ffa03828', waterbody=None),\n",
       " Row(barcodevalue=None, basisofrecord='preservedspecimen', canonicalname='russulina', catalognumber='259440', class='agaricomycetes', collectioncode=None, collectionid='0cd2551b-8166-4c05-a0c9-5c8712ce0eb8', collector='r. l. shaffer', commonname=None, continent='north america', country='united states', countrycode='usa', datecollected=datetime.datetime(1961, 7, 17, 20, 0), family='russulaceae', fieldnumber=None, genus='russulina', group=None, highertaxon=None, individualcount=None, infraspecificepithet=None, kingdom='fungi', municipality=None, order='russulales', phylum='basidiomycota', scientificname='russula', specificepithet=None, stateprovince='vermont', uuid='4e0b295a-9456-416c-83df-ab0183912e43', waterbody=None)]"
      ]
     },
     "execution_count": 10,
     "metadata": {},
     "output_type": "execute_result"
    }
   ],
   "source": [
    "print(df.count())\n",
    "df.head(10)"
   ]
  },
  {
   "cell_type": "code",
   "execution_count": null,
   "metadata": {
    "collapsed": true
   },
   "outputs": [],
   "source": []
  }
 ],
 "metadata": {
  "kernelspec": {
   "display_name": "PySpark (py3)",
   "language": "python",
   "name": "pyspark3"
  },
  "language_info": {
   "codemirror_mode": {
    "name": "ipython",
    "version": 3
   },
   "file_extension": ".py",
   "mimetype": "text/x-python",
   "name": "python",
   "nbconvert_exporter": "python",
   "pygments_lexer": "ipython3",
   "version": "3.5.2"
  }
 },
 "nbformat": 4,
 "nbformat_minor": 1
}
