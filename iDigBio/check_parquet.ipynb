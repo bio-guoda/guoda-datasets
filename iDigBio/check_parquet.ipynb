{
 "cells": [
  {
   "cell_type": "code",
   "execution_count": 1,
   "metadata": {
    "collapsed": true
   },
   "outputs": [],
   "source": [
    "from __future__ import print_function\n",
    "import os\n",
    "import sys"
   ]
  },
  {
   "cell_type": "code",
   "execution_count": 2,
   "metadata": {
    "collapsed": true
   },
   "outputs": [],
   "source": [
    "# Someday this has to go in a config or kernel\n",
    "\n",
    "spark_home = '/opt/spark/latest'\n",
    "\n",
    "os.environ['SPARK_HOME'] = spark_home\n",
    "sys.path.insert(0, spark_home + \"/python\")\n",
    "sys.path.insert(0, os.path.join(spark_home, 'python/lib/py4j-0.10.1-src.zip'))\n",
    "\n",
    "from pyspark.context import SparkContext\n",
    "from pyspark.context import SparkConf\n",
    "from pyspark.sql import SQLContext"
   ]
  },
  {
   "cell_type": "code",
   "execution_count": 3,
   "metadata": {
    "collapsed": true
   },
   "outputs": [],
   "source": [
    "sc = SparkContext()\n",
    "sqlContext = SQLContext(sc)"
   ]
  },
  {
   "cell_type": "code",
   "execution_count": 4,
   "metadata": {
    "collapsed": false
   },
   "outputs": [],
   "source": [
    "df = sqlContext.read.load(\"data/idigbio-20161025.parquet\")"
   ]
  },
  {
   "cell_type": "code",
   "execution_count": 5,
   "metadata": {
    "collapsed": false
   },
   "outputs": [
    {
     "name": "stdout",
     "output_type": "stream",
     "text": [
      "72035127\n"
     ]
    },
    {
     "data": {
      "text/plain": [
       "[Row(barcodevalue=None, basisofrecord='preservedspecimen', canonicalname='russula albonigra (krombh.) fr., 1874', catalognumber='12758', class='agaricomycetes', collectioncode=None, collectionid='0cd2551b-8166-4c05-a0c9-5c8712ce0eb8', collector='k. a. harrison', commonname=None, continent='north america', country='canada', countrycode='can', datecollected=datetime.datetime(1972, 7, 14, 20, 0), family='russulaceae', fieldnumber=None, genus='russula', group=None, highertaxon=None, individualcount=None, infraspecificepithet=None, kingdom='fungi', municipality=None, order='russulales', phylum='basidiomycota', scientificname='russula albonigra', specificepithet='albonigra', stateprovince='nova scotia', uuid='21bf62fc-c3b7-4264-bf01-149bc9a36290', waterbody=None),\n",
       " Row(barcodevalue=None, basisofrecord='preservedspecimen', canonicalname='sorex haydeni baird, 1857', catalognumber='135621', class='mammalia', collectioncode='kum', collectionid=None, collector='kringen b', commonname=None, continent='north america', country='united states', countrycode='usa', datecollected=datetime.datetime(1979, 4, 22, 19, 0), family='soricidae', fieldnumber=None, genus='sorex', group=None, highertaxon=None, individualcount=None, infraspecificepithet=None, kingdom='animalia', municipality=None, order='soricomorpha', phylum='chordata', scientificname='sorex haydeni', specificepithet='haydeni', stateprovince='south dakota', uuid='21bf6485-3ba1-44de-a389-27764894d2ce', waterbody=None),\n",
       " Row(barcodevalue=None, basisofrecord='preservedspecimen', canonicalname=None, catalognumber='csu ent0004605', class='insecta', collectioncode='csuc', collectionid='6ca25e61-71fe-4605-848f-86f9b72a87df', collector='m. kippenhan; b. kondratieff, d. and m. leatherman, p. opler', commonname=None, continent='north america', country='united states', countrycode='usa', datecollected=datetime.datetime(1991, 7, 13, 20, 0), family='tenebrionidae', fieldnumber=None, genus='eleodes', group=None, highertaxon=None, individualcount=1.0, infraspecificepithet=None, kingdom='animalia', municipality=None, order='coleoptera', phylum='arthropoda', scientificname='eleodes suturalis', specificepithet='suturalis', stateprovince='colorado', uuid='21bf6b40-60b7-4b27-9d19-b4a868437056', waterbody=None),\n",
       " Row(barcodevalue=None, basisofrecord='preservedspecimen', canonicalname='maemactes hispidulus (leconte, 1876)', catalognumber='5333', class='insecta', collectioncode='ent', collectionid=None, collector='[no agent data]', commonname=None, continent='north america', country='united states', countrycode='usa', datecollected=None, family='curculionidae', fieldnumber=None, genus='maemactes', group=None, highertaxon='animalia arthropoda insecta coleoptera curculionidae maemactes cribratus', individualcount=1.0, infraspecificepithet=None, kingdom='animalia', municipality=None, order='coleoptera', phylum='arthropoda', scientificname='maemactes cribratus', specificepithet='cribratus', stateprovince=None, uuid='21bf6b59-2ba0-48f9-8971-3319f5170ce1', waterbody=None),\n",
       " Row(barcodevalue=None, basisofrecord='fossilspecimen', canonicalname='oxyclaenus cope, 1884', catalognumber='186054', class='mammalia', collectioncode='v', collectionid=None, collector=None, commonname=None, continent='north america', country='united states', countrycode='usa', datecollected=None, family='oxyclaenidae', fieldnumber=None, genus='oxyclaenus', group=None, highertaxon=None, individualcount=None, infraspecificepithet=None, kingdom='animalia', municipality=None, order='condylarthra', phylum='chordata', scientificname='oxyclaenus', specificepithet=None, stateprovince='montana', uuid='21bf6e0a-0fb0-4945-8a5c-cd61719e1e30', waterbody=None),\n",
       " Row(barcodevalue=None, basisofrecord='preservedspecimen', canonicalname='urocitellus columbianus (ord, 1815)', catalognumber='274498', class='mammalia', collectioncode='mammal specimens', collectionid=None, collector='collector(s): joseph a. cook et al. 2014', commonname=None, continent='north america', country='united states', countrycode='usa', datecollected=datetime.datetime(2014, 6, 26, 20, 0), family='sciuridae', fieldnumber=None, genus='urocitellus', group=None, highertaxon='animalia; chordata; mammalia; rodentia; sciuridae; xerinae; marmotini;  (ord, 1815)', individualcount=1.0, infraspecificepithet=None, kingdom='animalia', municipality=None, order='rodentia', phylum='chordata', scientificname='urocitellus columbianus', specificepithet='columbianus', stateprovince='idaho', uuid='21bf6f74-87d2-4069-8fac-9a80e523d856', waterbody=None),\n",
       " Row(barcodevalue=None, basisofrecord='preservedspecimen', canonicalname='liolaemus monticola müller & hellmich, 1932', catalognumber='246789', class='reptilia', collectioncode='amphibian and reptile specimens', collectionid='urn:lsid:biocol.org:col:34818', collector='collector(s): richard d. sage', commonname=None, continent='south america', country='chile', countrycode='chl', datecollected=datetime.datetime(1968, 3, 26, 19, 0), family='liolaemidae', fieldnumber=None, genus='liolaemus', group=None, highertaxon='animalia chordata reptilia squamata iguanidae', individualcount=1.0, infraspecificepithet=None, kingdom='animalia', municipality=None, order='squamata', phylum='chordata', scientificname='liolaemus monticola', specificepithet='monticola', stateprovince='santiago metropolitan region', uuid='21bf72a9-a202-4c16-af37-c8fdc3377887', waterbody=None),\n",
       " Row(barcodevalue=None, basisofrecord='preservedspecimen', canonicalname='aleurodiscus amorphus (pers.) j. schröt., 1888', catalognumber='bpi 331178', class='agaricomycetes', collectioncode=None, collectionid=None, collector='hay g. v.', commonname=None, continent='north america', country='canada', countrycode='can', datecollected=datetime.datetime(1907, 9, 9, 19, 0), family='stereaceae', fieldnumber=None, genus='aleurodiscus', group=None, highertaxon=None, individualcount=None, infraspecificepithet=None, kingdom='fungi', municipality=None, order='russulales', phylum='basidiomycota', scientificname='aleurodiscus amorphus', specificepithet='amorphus', stateprovince='new brunswick', uuid='21bf730f-c560-4474-91e4-ac64f88589ec', waterbody=None),\n",
       " Row(barcodevalue=None, basisofrecord='preservedspecimen', canonicalname='agapostemon virescens (fabricius, 1775)', catalognumber='606588', class='insecta', collectioncode='ent', collectionid=None, collector='l. eddy', commonname=None, continent='north america', country='united states', countrycode='usa', datecollected=datetime.datetime(2010, 8, 26, 20, 0), family='halictidae', fieldnumber=None, genus='agapostemon', group=None, highertaxon='animalia arthropoda insecta hymenoptera halictidae halictinae halictini agapostemon virescens', individualcount=1.0, infraspecificepithet=None, kingdom='animalia', municipality=None, order='hymenoptera', phylum='arthropoda', scientificname='agapostemon virescens', specificepithet='virescens', stateprovince='massachusetts', uuid='21bf73b7-5822-4a15-a957-0326c955e353', waterbody=None),\n",
       " Row(barcodevalue=None, basisofrecord='preservedspecimen', canonicalname='astragalus calycosus torr. ex s. wats.', catalognumber='rsa782879', class='magnoliopsida', collectioncode='vascularplants', collectionid=None, collector='j. andr&eacute;', commonname=None, continent='north america', country='united states', countrycode='usa', datecollected=datetime.datetime(2011, 7, 9, 20, 0), family='fabaceae', fieldnumber=None, genus='astragalus', group=None, highertaxon=None, individualcount=1.0, infraspecificepithet='calycosus', kingdom='plantae', municipality=None, order='fabales', phylum='tracheophyta', scientificname='astragalus calycosus var. calycosus', specificepithet='calycosus', stateprovince='california', uuid='21bf7412-3e47-4b51-9896-8bfe1de80100', waterbody=None)]"
      ]
     },
     "execution_count": 5,
     "metadata": {},
     "output_type": "execute_result"
    }
   ],
   "source": [
    "print(df.count())\n",
    "df.head(10)"
   ]
  },
  {
   "cell_type": "code",
   "execution_count": null,
   "metadata": {
    "collapsed": true
   },
   "outputs": [],
   "source": []
  }
 ],
 "metadata": {
  "kernelspec": {
   "display_name": "Python 3",
   "language": "python",
   "name": "python3"
  },
  "language_info": {
   "codemirror_mode": {
    "name": "ipython",
    "version": 3
   },
   "file_extension": ".py",
   "mimetype": "text/x-python",
   "name": "python",
   "nbconvert_exporter": "python",
   "pygments_lexer": "ipython3",
   "version": "3.5.2"
  }
 },
 "nbformat": 4,
 "nbformat_minor": 1
}
