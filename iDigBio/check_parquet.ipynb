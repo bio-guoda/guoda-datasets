{
 "cells": [
  {
   "cell_type": "code",
   "execution_count": 2,
   "metadata": {
    "collapsed": true
   },
   "outputs": [],
   "source": [
    "from __future__ import print_function\n",
    "import os\n",
    "import sys"
   ]
  },
  {
   "cell_type": "code",
   "execution_count": 3,
   "metadata": {
    "collapsed": true
   },
   "outputs": [],
   "source": [
    "# Someday this has to go in a config or kernel\n",
    "\n",
    "spark_home = '/opt/spark/latest'\n",
    "\n",
    "os.environ['SPARK_HOME'] = spark_home\n",
    "sys.path.insert(0, spark_home + \"/python\")\n",
    "sys.path.insert(0, os.path.join(spark_home, 'python/lib/py4j-0.10.1-src.zip'))\n",
    "\n",
    "from pyspark.context import SparkContext\n",
    "from pyspark.context import SparkConf\n",
    "from pyspark.sql import SQLContext"
   ]
  },
  {
   "cell_type": "code",
   "execution_count": 4,
   "metadata": {
    "collapsed": true
   },
   "outputs": [],
   "source": [
    "sc = SparkContext()\n",
    "sqlContext = SQLContext(sc)"
   ]
  },
  {
   "cell_type": "code",
   "execution_count": 6,
   "metadata": {
    "collapsed": false
   },
   "outputs": [],
   "source": [
    "df = sqlContext.read.load(\"data/idigbio-20161024.parquet\")"
   ]
  },
  {
   "cell_type": "code",
   "execution_count": 7,
   "metadata": {
    "collapsed": false
   },
   "outputs": [
    {
     "data": {
      "text/plain": [
       "[Row(genus='acer', uuid='355438cd-b068-4302-826a-a8e18079d7a2'),\n",
       " Row(genus='acer', uuid='35bf2a93-62e5-4dd9-b79c-4294a7833ee8'),\n",
       " Row(genus='acer', uuid='35e5aa07-2d3b-4403-8ea5-3e5d9fd17631'),\n",
       " Row(genus='acer', uuid='36038d80-2557-4549-b3d1-b2f4066b5cc9'),\n",
       " Row(genus='acer', uuid='3613e824-6183-42f6-bba1-becc812b38af'),\n",
       " Row(genus='acer', uuid='361418e4-29c2-47f9-a9fe-277a2290ca5f'),\n",
       " Row(genus='acer', uuid='364c807a-a008-4fc4-aee6-9f8cb65f354f'),\n",
       " Row(genus='acer', uuid='36863188-270c-45c4-b25b-c14e87fe3441'),\n",
       " Row(genus='acer', uuid='36afef68-f356-45a2-be8e-1509d9626784'),\n",
       " Row(genus='acer', uuid='36e233e9-a107-4b19-8915-05c45e100c38')]"
      ]
     },
     "execution_count": 7,
     "metadata": {},
     "output_type": "execute_result"
    }
   ],
   "source": [
    "df.head(10)"
   ]
  }
 ],
 "metadata": {
  "kernelspec": {
   "display_name": "Python 3",
   "language": "python",
   "name": "python3"
  },
  "language_info": {
   "codemirror_mode": {
    "name": "ipython",
    "version": 3
   },
   "file_extension": ".py",
   "mimetype": "text/x-python",
   "name": "python",
   "nbconvert_exporter": "python",
   "pygments_lexer": "ipython3",
   "version": "3.5.2"
  }
 },
 "nbformat": 4,
 "nbformat_minor": 1
}
