{
 "cells": [
  {
   "cell_type": "code",
   "execution_count": 1,
   "metadata": {
    "collapsed": true
   },
   "outputs": [],
   "source": [
    "from __future__ import print_function\n",
    "import os\n",
    "import sys"
   ]
  },
  {
   "cell_type": "code",
   "execution_count": 3,
   "metadata": {
    "collapsed": false
   },
   "outputs": [],
   "source": [
    "# Someday this has to go in a config or kernel\n",
    "\n",
    "spark_home = '/opt/spark/latest'\n",
    "\n",
    "os.environ['SPARK_HOME'] = spark_home\n",
    "sys.path.insert(0, spark_home + \"/python\")\n",
    "sys.path.insert(0, os.path.join(spark_home, 'python/lib/py4j-0.10.1-src.zip'))\n",
    "\n",
    "from pyspark.context import SparkContext\n",
    "from pyspark.sql import SQLContext\n",
    "sc = SparkContext()\n",
    "sqlContext = SQLContext(sc)"
   ]
  },
  {
   "cell_type": "markdown",
   "metadata": {},
   "source": [
    "About the ES connector: version 2.1 of the elasticsearch-hadoop connector (not 2.1 of spark!) has native support for Spark now, released around June 2016. https://www.elastic.co/guide/en/elasticsearch/hadoop/current/spark.html\n",
    "\n",
    "Video (fake registration works, real content @ about 9:00) https://www.elastic.co/webinars/adding-spark-and-security-to-elasticsearch-for-hadoop/?baymax=rtp&elektra=docs&iesrc=ctr"
   ]
  },
  {
   "cell_type": "markdown",
   "metadata": {
    "collapsed": true
   },
   "source": [
    "The zip file here has all the jars in it: https://www.elastic.co/downloads/hadoop\n",
    "\n",
    "And example code:\n",
    "\n",
    "https://spark.apache.org/docs/latest/programming-guide.html#external-datasets\n",
    "\n",
    "Full docs, only Scala and Java samples except the last lines which are Python:\n",
    "\n",
    "https://www.elastic.co/guide/en/elasticsearch/hadoop/current/spark.html\n",
    "\n",
    "\n",
    "ls /opt/spark/latest/jars/ela*\n",
    "/opt/spark/latest/jars/elasticsearch-hadoop-2.4.0.jar\n",
    "\n",
    "https://db-blog.web.cern.ch/blog/prasanth-kothuri/2016-05-integrating-hadoop-and-elasticsearch-%E2%80%93-part-2-%E2%80%93-writing-and-querying\n"
   ]
  },
  {
   "cell_type": "markdown",
   "metadata": {
    "collapsed": true
   },
   "source": [
    "```\n",
    ">>> es_df = sqlContext.read.format(\"org.elasticsearch.spark.sql\").load(\"idigbio-2.10.1/records\")\n",
    "Traceback (most recent call last):\n",
    "  File \"<stdin>\", line 1, in <module>\n",
    "  File \"/opt/spark/latest/python/pyspark/sql/readwriter.py\", line 147, in load\n",
    "    return self._df(self._jreader.load(path))\n",
    "  File \"/opt/spark/latest/python/lib/py4j-0.10.1-src.zip/py4j/java_gateway.py\", line 933, in __call__\n",
    "  File \"/opt/spark/latest/python/pyspark/sql/utils.py\", line 63, in deco\n",
    "    return f(*a, **kw)\n",
    "  File \"/opt/spark/latest/python/lib/py4j-0.10.1-src.zip/py4j/protocol.py\", line 312, in get_return_value\n",
    "py4j.protocol.Py4JJavaError: An error occurred while calling o31.load.\n",
    ": org.elasticsearch.hadoop.EsHadoopIllegalArgumentException: Unknown GeoShape [null]\n",
    "        at org.elasticsearch.hadoop.serialization.dto.mapping.MappingUtils.doParseGeoShapeInfo(MappingUtils.java:254)\n",
    "        at org.elasticsearch.hadoop.serialization.dto.mapping.MappingUtils.parseGeoInfo(MappingUtils.java:219)\n",
    "        at org.elasticsearch.hadoop.rest.RestRepository.sampleGeoFields(RestRepository.java:447)\n",
    "        at org.elasticsearch.spark.sql.SchemaUtils$.discoverMappingAsField(SchemaUtils.scala:86)\n",
    "        at org.elasticsearch.spark.sql.SchemaUtils$.discoverMapping(SchemaUtils.scala:69)\n",
    "        at org.elasticsearch.spark.sql.ElasticsearchRelation.lazySchema$lzycompute(DefaultSource.scala:112)\n",
    "        at org.elasticsearch.spark.sql.ElasticsearchRelation.lazySchema(DefaultSource.scala:112)\n",
    "        at org.elasticsearch.spark.sql.ElasticsearchRelation$$anonfun$schema$1.apply(DefaultSource.scala:116)\n",
    "        at org.elasticsearch.spark.sql.ElasticsearchRelation$$anonfun$schema$1.apply(DefaultSource.scala:116)\n",
    "        at scala.Option.getOrElse(Option.scala:121)\n",
    "        at org.elasticsearch.spark.sql.ElasticsearchRelation.schema(DefaultSource.scala:116)\n",
    "        at org.apache.spark.sql.execution.datasources.LogicalRelation.<init>(LogicalRelation.scala:40)\n",
    "        at org.apache.spark.sql.SparkSession.baseRelationToDataFrame(SparkSession.scala:382)\n",
    "        at org.apache.spark.sql.DataFrameReader.load(DataFrameReader.scala:143)\n",
    "        at org.apache.spark.sql.DataFrameReader.load(DataFrameReader.scala:132)\n",
    "        at sun.reflect.NativeMethodAccessorImpl.invoke0(Native Method)\n",
    "        at sun.reflect.NativeMethodAccessorImpl.invoke(NativeMethodAccessorImpl.java:62)\n",
    "        at sun.reflect.DelegatingMethodAccessorImpl.invoke(DelegatingMethodAccessorImpl.java:43)\n",
    "        at java.lang.reflect.Method.invoke(Method.java:498)\n",
    "        at py4j.reflection.MethodInvoker.invoke(MethodInvoker.java:237)\n",
    "        at py4j.reflection.ReflectionEngine.invoke(ReflectionEngine.java:357)\n",
    "        at py4j.Gateway.invoke(Gateway.java:280)\n",
    "        at py4j.commands.AbstractCommand.invokeMethod(AbstractCommand.java:128)\n",
    "        at py4j.commands.CallCommand.execute(CallCommand.java:79)\n",
    "        at py4j.GatewayConnection.run(GatewayConnection.java:211)\n",
    "        at java.lang.Thread.run(Thread.java:745)\n",
    "```\n",
    "\n",
    "https://github.com/elastic/elasticsearch-hadoop/issues/607"
   ]
  },
  {
   "cell_type": "code",
   "execution_count": null,
   "metadata": {
    "collapsed": true
   },
   "outputs": [],
   "source": []
  }
 ],
 "metadata": {
  "kernelspec": {
   "display_name": "Python 3",
   "language": "python",
   "name": "python3"
  },
  "language_info": {
   "codemirror_mode": {
    "name": "ipython",
    "version": 3
   },
   "file_extension": ".py",
   "mimetype": "text/x-python",
   "name": "python",
   "nbconvert_exporter": "python",
   "pygments_lexer": "ipython3",
   "version": "3.5.2"
  }
 },
 "nbformat": 4,
 "nbformat_minor": 1
}
